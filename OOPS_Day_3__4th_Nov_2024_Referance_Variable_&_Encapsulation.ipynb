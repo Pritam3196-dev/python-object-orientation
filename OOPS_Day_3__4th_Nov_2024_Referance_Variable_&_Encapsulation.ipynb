{
 "cells": [
  {
   "cell_type": "markdown",
   "id": "677a8eb7",
   "metadata": {},
   "source": [
    "### Create a class and referance variable"
   ]
  },
  {
   "cell_type": "code",
   "execution_count": 1,
   "id": "e3194cd1",
   "metadata": {},
   "outputs": [],
   "source": [
    "class kumar:\n",
    "    \n",
    "    def __init__(self , name , country):             # constructor\n",
    "        \n",
    "        self.name_input = name            # name_input is instance variable and we access instance\n",
    "                                          # variable by self \n",
    "            \n",
    "        self.country_input = country      # country_input is instance variable and we access instance\n",
    "                                          # variable by self\n",
    "            \n",
    "    def greet(self):                    # instance method and self is bydefault in instance method\n",
    "        \n",
    "        if self.country_input == 'india':\n",
    "            \n",
    "            print(f'Namaste {self.name_input}'.format(self.name_input))\n",
    "            \n",
    "        \n",
    "        else:\n",
    "            \n",
    "            print(f'Hello {self.name_input}'.format(self.name_input))"
   ]
  },
  {
   "cell_type": "code",
   "execution_count": 2,
   "id": "3f4e4701",
   "metadata": {},
   "outputs": [],
   "source": [
    "s = kumar('pritam' , 'india')       # call the class and create a object and pass arg to constructor"
   ]
  },
  {
   "cell_type": "code",
   "execution_count": 3,
   "id": "5e1b2a44",
   "metadata": {},
   "outputs": [
    {
     "name": "stdout",
     "output_type": "stream",
     "text": [
      "Namaste pritam\n"
     ]
    }
   ],
   "source": [
    "s.greet()                    # call the greet method by object regerance variable"
   ]
  },
  {
   "cell_type": "markdown",
   "id": "7793a6bc",
   "metadata": {},
   "source": [
    "### Referance variable is can use as refer object of class and with help of it we can access properties and method of object(class)"
   ]
  },
  {
   "cell_type": "markdown",
   "id": "40e159c6",
   "metadata": {},
   "source": [
    "#### We can create instance variable at outside of class by object "
   ]
  },
  {
   "cell_type": "code",
   "execution_count": 4,
   "id": "e1ea4288",
   "metadata": {},
   "outputs": [],
   "source": [
    "s.gender = 'male'"
   ]
  },
  {
   "cell_type": "markdown",
   "id": "a9100952",
   "metadata": {},
   "source": [
    "### Scenario : 2"
   ]
  },
  {
   "cell_type": "code",
   "execution_count": 37,
   "id": "6306006a",
   "metadata": {},
   "outputs": [],
   "source": [
    "class kumar:\n",
    "    \n",
    "    def __init__(self):\n",
    "        \n",
    "        self.name = 'pritam'\n",
    "        self.gender = 'male'\n",
    "        \n",
    "p = kumar()                     #object referance variable\n",
    "q = p                           # referance variable can have multiple object like q"
   ]
  },
  {
   "cell_type": "code",
   "execution_count": 38,
   "id": "49f6904a",
   "metadata": {},
   "outputs": [
    {
     "name": "stdout",
     "output_type": "stream",
     "text": [
      "2242229712976\n"
     ]
    }
   ],
   "source": [
    "print(id(p))"
   ]
  },
  {
   "cell_type": "code",
   "execution_count": 39,
   "id": "3c5c21c8",
   "metadata": {},
   "outputs": [
    {
     "name": "stdout",
     "output_type": "stream",
     "text": [
      "2242229712976\n"
     ]
    }
   ],
   "source": [
    "print(id(q))             "
   ]
  },
  {
   "cell_type": "code",
   "execution_count": 41,
   "id": "058cf389",
   "metadata": {},
   "outputs": [
    {
     "name": "stdout",
     "output_type": "stream",
     "text": [
      "pritam\n",
      "pritam\n"
     ]
    }
   ],
   "source": [
    "print(p.name)\n",
    "print(q.name)"
   ]
  },
  {
   "cell_type": "code",
   "execution_count": 42,
   "id": "116594f7",
   "metadata": {},
   "outputs": [],
   "source": [
    "q.name = 'parth'"
   ]
  },
  {
   "cell_type": "code",
   "execution_count": 43,
   "id": "f7af9db3",
   "metadata": {},
   "outputs": [
    {
     "name": "stdout",
     "output_type": "stream",
     "text": [
      "parth\n",
      "parth\n"
     ]
    }
   ],
   "source": [
    "print(p.name)\n",
    "print(q.name)"
   ]
  },
  {
   "cell_type": "markdown",
   "id": "7b08b089",
   "metadata": {},
   "source": [
    "### Encapsulation : \n",
    "\n",
    "##### Encapsulation process is data hiding process . where data and code binding together. it is for improving security of organisation . who one have programming knowledge that person should not be get access of that code . basically avoid to disturbance of code.\n",
    "##### there are three methods : \n",
    "#### 1. public : It can access from outside of the class\n",
    "#### 2. protected : It is in class and its child class\n",
    "#### 3.private : It is can not access from outside . It is only inside of class"
   ]
  },
  {
   "cell_type": "markdown",
   "id": "bf05846e",
   "metadata": {},
   "source": [
    "#### Create class"
   ]
  },
  {
   "cell_type": "code",
   "execution_count": 69,
   "id": "5ae8a2be",
   "metadata": {},
   "outputs": [],
   "source": [
    "class car : \n",
    "    \n",
    "    \n",
    "    def __init__(self , brand , model , year):\n",
    "        \n",
    "        self.__brand = brand             # __brand is instance v and make it as private by __\n",
    "        self.__model = model             #__model is instance v and make it as private by __\n",
    "        self.__year = year               #__model is instance v and make it as private by __\n",
    "        self.__mileage = 0         #__mileage is instance v and make it as private by __\n",
    "        \n",
    "    \n",
    "    def drive(self , miles):\n",
    "        \n",
    "        if miles > 0 :\n",
    "            \n",
    "            self.__mileage = self.__mileage + miles\n",
    "            \n",
    "            \n",
    "    def get_mileage(self):\n",
    "        \n",
    "        return self.__mileage      # this is getter method . its getting value of instance v. means\n",
    "                                 # It only showing / return value of instance v.\n",
    "        \n",
    "    def get_info(self):      # this is also getter method . it only return value of instance v\n",
    "        \n",
    "        return f\"{self.__brand}:{self.__model}:{self.__year}\""
   ]
  },
  {
   "cell_type": "code",
   "execution_count": 70,
   "id": "4029befa",
   "metadata": {},
   "outputs": [],
   "source": [
    "my_car = car('land rover' , 'range rover' , 2010)"
   ]
  },
  {
   "cell_type": "code",
   "execution_count": 71,
   "id": "4a835313",
   "metadata": {},
   "outputs": [],
   "source": [
    "my_car.drive(150)    # normal instance method"
   ]
  },
  {
   "cell_type": "code",
   "execution_count": 72,
   "id": "47d642c4",
   "metadata": {},
   "outputs": [
    {
     "data": {
      "text/plain": [
       "150"
      ]
     },
     "execution_count": 72,
     "metadata": {},
     "output_type": "execute_result"
    }
   ],
   "source": [
    "my_car.get_mileage()  # getter method call and return the value of instance variable"
   ]
  },
  {
   "cell_type": "code",
   "execution_count": 73,
   "id": "c00d7b0c",
   "metadata": {},
   "outputs": [
    {
     "data": {
      "text/plain": [
       "'land rover:range rover:2010'"
      ]
     },
     "execution_count": 73,
     "metadata": {},
     "output_type": "execute_result"
    }
   ],
   "source": [
    "my_car.get_info() # getter method call and return the value of instance variable"
   ]
  },
  {
   "cell_type": "markdown",
   "id": "e49a8195",
   "metadata": {},
   "source": [
    "#### setter method is set the value of instance method and getter method is get value of instance method so its return it"
   ]
  },
  {
   "cell_type": "markdown",
   "id": "51fd2793",
   "metadata": {},
   "source": [
    "#### Create another class"
   ]
  },
  {
   "cell_type": "code",
   "execution_count": 74,
   "id": "f695ae9c",
   "metadata": {},
   "outputs": [],
   "source": [
    "class car:\n",
    "    \n",
    "    def __init__(self , brand , model):     # constructor take two parameeters\n",
    "        \n",
    "        self.__model = model             # __model is instance variable and make it as private\n",
    "                                         # private is basically for can not be access from out class\n",
    "        self.brand = brand              # brand is instance variable but is is public.\n",
    "                                        # self is basically access the instance variable without\n",
    "                                        # it we can not access them.\n",
    "                \n",
    "    \n",
    "    def get_model(self):\n",
    "        \n",
    "        return self.__model            # Getter method . It only return value of instance v\n",
    "    \n",
    "    def set_model(self , model):       # setter method . sets the value of instance variable.\n",
    "                                       # model is instance variable\n",
    "        \n",
    "        self.__model = model"
   ]
  },
  {
   "cell_type": "code",
   "execution_count": 75,
   "id": "a4228830",
   "metadata": {},
   "outputs": [],
   "source": [
    "c = car('land rover' , 'range rover')"
   ]
  },
  {
   "cell_type": "code",
   "execution_count": 76,
   "id": "11a11779",
   "metadata": {},
   "outputs": [
    {
     "data": {
      "text/plain": [
       "'range rover'"
      ]
     },
     "execution_count": 76,
     "metadata": {},
     "output_type": "execute_result"
    }
   ],
   "source": [
    "c.get_model()"
   ]
  },
  {
   "cell_type": "code",
   "execution_count": 77,
   "id": "8dfac50a",
   "metadata": {},
   "outputs": [],
   "source": [
    "c.set_model('rolls royals')           # Here we set instance v (model) "
   ]
  },
  {
   "cell_type": "code",
   "execution_count": 78,
   "id": "11de254c",
   "metadata": {},
   "outputs": [
    {
     "data": {
      "text/plain": [
       "'rolls royals'"
      ]
     },
     "execution_count": 78,
     "metadata": {},
     "output_type": "execute_result"
    }
   ],
   "source": [
    "c.get_model()            # Here we get value of model is rolls royals now because we set \n",
    "                         # the instance variable (model) as rolls royals before that it was \n",
    "                         # range rover"
   ]
  },
  {
   "cell_type": "code",
   "execution_count": null,
   "id": "c68f5c97",
   "metadata": {},
   "outputs": [],
   "source": []
  }
 ],
 "metadata": {
  "kernelspec": {
   "display_name": "Python 3 (ipykernel)",
   "language": "python",
   "name": "python3"
  },
  "language_info": {
   "codemirror_mode": {
    "name": "ipython",
    "version": 3
   },
   "file_extension": ".py",
   "mimetype": "text/x-python",
   "name": "python",
   "nbconvert_exporter": "python",
   "pygments_lexer": "ipython3",
   "version": "3.11.4"
  }
 },
 "nbformat": 4,
 "nbformat_minor": 5
}
