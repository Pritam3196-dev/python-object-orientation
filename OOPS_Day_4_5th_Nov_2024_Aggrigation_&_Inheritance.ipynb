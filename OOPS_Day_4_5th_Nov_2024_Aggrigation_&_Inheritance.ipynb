{
 "cells": [
  {
   "cell_type": "markdown",
   "id": "2ea5c51f",
   "metadata": {},
   "source": [
    "### Aggrigation "
   ]
  },
  {
   "cell_type": "markdown",
   "id": "c9863e3c",
   "metadata": {},
   "source": [
    "#### Aggrigation is relation between two classes. one object is related with another object. basically One thing is which is inside the another thing. Inside thing is can exist on themslves"
   ]
  },
  {
   "cell_type": "markdown",
   "id": "0442a126",
   "metadata": {},
   "source": [
    "#### Create Class "
   ]
  },
  {
   "cell_type": "code",
   "execution_count": 1,
   "id": "fd6f0c08",
   "metadata": {},
   "outputs": [],
   "source": [
    "class customer:                  # one sepeerate class\n",
    "    \n",
    "    def __init__(self , name , gender , address):   # constructor\n",
    "        \n",
    "        self.name = name\n",
    "        self.gender = gender\n",
    "        self.address = address\n",
    "        \n",
    "        \n",
    "    def print_address(self):         # Intermediate method which connects two class\n",
    "        \n",
    "        print(self.address.city,  self.address.pin , self.address.state)\n",
    "        \n",
    "        # this self.address is nothing but our object that we passing in cust at the time of\n",
    "        # calling class so this object get into address in constructor at defination(at line3)\n",
    "        # then this object get assign into self.address variable (self can access instance v(address))\n",
    "        # Now our self.address is nothing but add(object of customer class).after that when we \n",
    "        # get object so we can easilya access variable of that perticular class.\n",
    "        # we did same thing here , self.address is nothing but add\n",
    "        # with this we did add.city , add.pin , add.state means we access instance variable\n",
    "        \n",
    "\n",
    "class Address:         # other seperate class\n",
    "    \n",
    "    def __init__(self , city , pin , state):       # constructor\n",
    "        \n",
    "        self.city = city\n",
    "        self.pin = pin\n",
    "        self.state = state\n",
    "        \n",
    "        \n",
    "add = Address('Delhi' , 1234 , 'Delhi')\n",
    "c = customer('Akshay' , 'male' , add)"
   ]
  },
  {
   "cell_type": "code",
   "execution_count": 5,
   "id": "1b913212",
   "metadata": {},
   "outputs": [],
   "source": [
    "#add.city\n",
    "#add.pin\n",
    "#add.state"
   ]
  },
  {
   "cell_type": "code",
   "execution_count": 7,
   "id": "7f2e1ca2",
   "metadata": {},
   "outputs": [
    {
     "name": "stdout",
     "output_type": "stream",
     "text": [
      "Delhi 1234 Delhi\n"
     ]
    }
   ],
   "source": [
    "c.print_address()"
   ]
  },
  {
   "cell_type": "markdown",
   "id": "cad1d29c",
   "metadata": {},
   "source": [
    "#### We use getter method here"
   ]
  },
  {
   "cell_type": "markdown",
   "id": "b66bb0aa",
   "metadata": {},
   "source": [
    "##### We basically access the private keyword by public method"
   ]
  },
  {
   "cell_type": "code",
   "execution_count": 18,
   "id": "1c396153",
   "metadata": {},
   "outputs": [],
   "source": [
    "class customer:                  # one sepeerate class\n",
    "    \n",
    "    def __init__(self , name , gender , address):   # constructor\n",
    "        \n",
    "        self.name = name\n",
    "        self.gender = gender\n",
    "        self.address = address\n",
    "        \n",
    "        \n",
    "    def print_address(self):         # Intermediate method which connects two class\n",
    "        \n",
    "              # Here we just call the getter method from here by object(self.adr = add)\n",
    "        print(self.address.get_city(),  self.address.pin , self.address.state)\n",
    "        \n",
    "        # this self.address is nothing but our object that we passing in cust at the time of\n",
    "        # calling class so this object get into address in constructor at defination(at line3)\n",
    "        # then this object get assign into self.address variable (self can access instance v(address))\n",
    "        # Now our self.address is nothing but add(object of customer class).after that when we \n",
    "        # get object so we can easilya access variable of that perticular class.\n",
    "        # we did same thing here , self.address is nothing but add\n",
    "        # with this we did add.city , add.pin , add.state means we access instance variable\n",
    "        \n",
    "\n",
    "class Address:         # other seperate class\n",
    "    \n",
    "    def __init__(self , city , pin , state):       # constructor\n",
    "        \n",
    "        self.__city = city\n",
    "        self.pin = pin\n",
    "        self.state = state\n",
    "        \n",
    "        \n",
    "    def get_city(self):                   # Getter method . It just only return the instance v\n",
    "        \n",
    "        return self.__city                # Instance variable but it make it as private\n",
    "        \n",
    "        \n",
    "add = Address('Delhi' , 1234 , 'Delhi')\n",
    "c = customer('Akshay' , 'male' , add)"
   ]
  },
  {
   "cell_type": "code",
   "execution_count": 19,
   "id": "7c5fc723",
   "metadata": {},
   "outputs": [
    {
     "name": "stdout",
     "output_type": "stream",
     "text": [
      "Delhi 1234 Delhi\n"
     ]
    }
   ],
   "source": [
    "c.print_address()"
   ]
  },
  {
   "cell_type": "code",
   "execution_count": null,
   "id": "7781480e",
   "metadata": {},
   "outputs": [],
   "source": []
  },
  {
   "cell_type": "code",
   "execution_count": 6,
   "id": "b754032b",
   "metadata": {},
   "outputs": [
    {
     "name": "stdout",
     "output_type": "stream",
     "text": [
      "['j k rowling by Harry Potter', 'J.R.R Talkein by The Hobbit', 'paretchett by Magic of color']\n"
     ]
    }
   ],
   "source": [
    "class library :                  # One Independent class\n",
    "    \n",
    "    def __init__(self , name):\n",
    "        \n",
    "        self.name = name\n",
    "        self.books = []\n",
    "        \n",
    "    def add_book(self , book):    # This method takes one arg book where we actually pass object\n",
    "                                  # of other class (Book)\n",
    "        self.books.append(book)\n",
    "        \n",
    "        \n",
    "        \n",
    "    def list_books(self):     # this is method it just extract data from list of books(self.books)\n",
    "                              # and it store in two seperate variable we unpack it just\n",
    "        return [f'{book.author} by {book.title}'for book in self.books]\n",
    "                              \n",
    "                              # because its tupel in list so we unpack it\n",
    "        \n",
    "        \n",
    "        \n",
    "        \n",
    "class Book:                                 # Another Indepedent class\n",
    "    \n",
    "    def __init__(self , title , author):\n",
    "        \n",
    "        self.title = title\n",
    "        self.author = author\n",
    "        \n",
    "    \n",
    "l = library('New york Public Library')            # object of librery class\n",
    "\n",
    "book1 = Book('Harry Potter' , 'j k rowling')      # object of Book class\n",
    "book2 = Book('The Hobbit' , 'J.R.R Talkein')\n",
    "book3 = Book('Magic of color' , 'paretchett')\n",
    "\n",
    "#print(l)\n",
    "\n",
    "l.add_book(book1)  # We pass object of 2nd class in 1st class's add_book. here we make connection\n",
    "l.add_book(book2)  # We establish relation of two class by pass argument of 2nd class(book)\n",
    "l.add_book(book3)\n",
    "\n",
    "print(l.list_books())    # we want to extract title and author so by obj.method()"
   ]
  },
  {
   "cell_type": "markdown",
   "id": "843f4cce",
   "metadata": {},
   "source": [
    "#### Another example of aggigation"
   ]
  },
  {
   "cell_type": "code",
   "execution_count": 8,
   "id": "4e8c37bf",
   "metadata": {},
   "outputs": [
    {
     "name": "stdout",
     "output_type": "stream",
     "text": [
      "Employees of Data Science are :\n",
      "Name of employee is : Pritam and position of an employee is Data Scientist\n",
      "Name of employee is : Parth and position of an employee is Jr. Data Scientist\n",
      "Employees of Frontend are :\n",
      "Name of employee is : Jerry and position of an employee is Frontend Developer\n"
     ]
    }
   ],
   "source": [
    "class Employee:\n",
    "    \n",
    "    def __init__(self , name , position):\n",
    "        \n",
    "        self.name = name\n",
    "        self.position = position\n",
    "        \n",
    "        \n",
    "        \n",
    "    def get_info(self):\n",
    "        \n",
    "        print(f'Name of employee is : {self.name} and position of an employee is {self.position}')\n",
    "        \n",
    "        \n",
    "class Department:\n",
    "    \n",
    "    def __init__(self , department_name):\n",
    "        \n",
    "        self.department_name = department_name\n",
    "        self.employees = []\n",
    "        \n",
    "    def add_employees(self , employee):     # This method is point of contact of two classes\n",
    "        \n",
    "        self.employees.append(employee)  # employee contains data of employee class name & position\n",
    "                                    # because at the time of calling this method it pass values\n",
    "                                    # of employee class\n",
    "        \n",
    "                \n",
    "    def show_employees(self):\n",
    "        \n",
    "        print(f'Employees of {self.department_name} are :' , )\n",
    "        \n",
    "        for emp in self.employees:\n",
    "            emp.get_info()  # Call the get_info method of the current Employee object.\n",
    "                    # please check decription below . if u are not get how it access get_info()\n",
    "\n",
    "            \n",
    "            \n",
    "            \n",
    "d1 = Department('Data Science')\n",
    "d2 = Department('Frontend')\n",
    "\n",
    "e1 = Employee('Pritam' , 'Data Scientist')\n",
    "e2 = Employee('Parth' , 'Jr. Data Scientist')\n",
    "e3 = Employee('Jerry' ,'Frontend Developer')\n",
    "        \n",
    "        \n",
    "        \n",
    "d1.add_employees(e1)\n",
    "d1.add_employees(e2)\n",
    "d2.add_employees(e3)\n",
    "\n",
    "d1.show_employees()\n",
    "d2.show_employees()"
   ]
  },
  {
   "cell_type": "markdown",
   "id": "0984b3b6",
   "metadata": {},
   "source": [
    "### Let's Rephrase Your Understanding:\n",
    "##### Department is the aggregation class because it holds references to Employee objects.\n",
    "##### add_employee() is the method in the Department that allows adding or \"inserting\" Employee objects into the Department.\n",
    "##### The Employee class is just like any other standalone class, and it is not dependent on the Department for its existence.\n",
    "##### So in summary, you can say:\n",
    "\n",
    "##### Department aggregates Employee objects by storing them (using methods like add_employee()).\n",
    "##### The Employee class represents individual employees, and the Employee objects can exist without being inside a Department.\n",
    "##### Quick Recap:\n",
    "##### Aggregation: One class (like Department) \"has-a\" relationship with another class (like Employee).\n",
    "##### add_employee(): This method in the Department class connects or adds Employee objects to the department.\n",
    "##### Independence: Employee objects are independent of the Department, meaning if the Department is removed, the Employee objects still exist.\n",
    "##### Visualizing the Relationship:\n",
    "##### Department Class (aggregation class):\n",
    "##### Contains or \"has\" multiple Employee objects.\n",
    "##### Employee Class:\n",
    "##### Represents individual employees.\n",
    "##### Exists independently and can belong to many departments or no department at all.\n"
   ]
  },
  {
   "cell_type": "markdown",
   "id": "573740fb",
   "metadata": {},
   "source": [
    "### Decription how access get_info()"
   ]
  },
  {
   "cell_type": "markdown",
   "id": "45ff9d5c",
   "metadata": {},
   "source": [
    "\n",
    "\n",
    "Here's a clear breakdown:\n",
    "\n",
    "1. **`self.employees` contains objects of the `Employee` class**:\n",
    "   - When you add `e1`, `e2`, and `e3` to the `employees` list in the `Department` class, you're adding instances (objects) of the `Employee` class.\n",
    "   - So, when you print `self.employees`, it will display something like:\n",
    "     ```\n",
    "     [<__main__.Employee object at 0x7f9b8c123d30>, <__main__.Employee object at 0x7f9b8c123d60>, ...]\n",
    "     ```\n",
    "     This is a list of **objects** of the `Employee` class, each with a memory address.\n",
    "\n",
    "2. **`get_info()` is a method of the `Employee` class**:\n",
    "   - The `get_info()` method is defined inside the `Employee` class. Therefore, it can only be called on objects of the `Employee` class.\n",
    "   - So, when you call `emp.get_info()` inside the `show_employees()` method, you are calling the `get_info()` method on each `Employee` object in `self.employees`.\n",
    "\n",
    "3. **Accessing `get_info()` via `e1`, `e2`, `e3`**:\n",
    "   - As you correctly pointed out, the `self.employees` list holds the `Employee` objects (`e1`, `e2`, `e3`, etc.).\n",
    "   - During the iteration in `show_employees()`, the loop variable `emp` refers to each of these `Employee` objects one by one. When you call `emp.get_info()`, it calls the `get_info()` method on the current `Employee` object (`e1`, `e2`, or `e3` in each iteration), which prints the employee's name and position.\n",
    "\n",
    "### Recap:\n",
    "- **The `self.employees` list contains objects of the `Employee` class** (like `e1`, `e2`, `e3`).\n",
    "- **The `get_info()` method is accessed via the `Employee` class objects**, i.e., `e1`, `e2`, `e3`, etc., during the iteration in `show_employees()`.\n",
    "- **Each call to `emp.get_info()` prints data specific to the current object**, because the method uses the instance (`self`) to access the `name` and `position` attributes of that particular object.\n",
    "\n",
    "### Conclusion:\n",
    "\n",
    "Yes, you are correct! **You are accessing the `get_info()` method through the objects of the `Employee` class (`e1`, `e2`, `e3`, etc.)** and it prints the data inside those objects.\n",
    "\n"
   ]
  },
  {
   "cell_type": "markdown",
   "id": "c5282ac6",
   "metadata": {},
   "source": [
    "## Inheritance"
   ]
  },
  {
   "cell_type": "code",
   "execution_count": 2,
   "id": "c9b6da15",
   "metadata": {},
   "outputs": [
    {
     "name": "stdout",
     "output_type": "stream",
     "text": [
      "pritam\n",
      "male\n",
      "login\n",
      "Enroll into the course\n"
     ]
    }
   ],
   "source": [
    "class user:    # parent class / super class\n",
    "    \n",
    "    def __init__(self):\n",
    "        \n",
    "        self.name = 'pritam'\n",
    "        self.gender = 'male'\n",
    "        \n",
    "    def login(self):\n",
    "        \n",
    "        print('login')\n",
    "        \n",
    "                                # Inherited parent class (user) into child class(student)\n",
    "class student(user):            # child class / sub class / derived class\n",
    "    \n",
    "    \n",
    "    def enroll(self):\n",
    "        \n",
    "        print('Enroll into the course')\n",
    "        \n",
    "        \n",
    "u = user()   # this calling brackets for calling constructor    # it is object of user class\n",
    "s = student() # Object of student class\n",
    "\n",
    "print(s.name)\n",
    "print(s.gender)\n",
    "s.login()\n",
    "s.enroll()"
   ]
  },
  {
   "cell_type": "code",
   "execution_count": 8,
   "id": "63298bc0",
   "metadata": {},
   "outputs": [
    {
     "name": "stdout",
     "output_type": "stream",
     "text": [
      "Inside phone constructor\n",
      "Buying a phone\n"
     ]
    }
   ],
   "source": [
    "class phone:\n",
    "    \n",
    "    def __init__(self , price , brand , camera):\n",
    "        print('Inside phone constructor')\n",
    "        self.price = price\n",
    "        self.brand = brand\n",
    "        self.camera = camera\n",
    "        \n",
    "    def buying(self):\n",
    "        \n",
    "        print('Buying a phone')\n",
    "        \n",
    "        \n",
    "class smartphone(phone):   # Inherited parent class (phone) into child class(smartphone)\n",
    "    \n",
    "    pass\n",
    "\n",
    "s = smartphone(123455 , 'oneplus' , '48mpx')  # need to pass arguments because smartphone does not\n",
    "s.buying()   # its own constructor so its just inherited from phone and phone require this params"
   ]
  },
  {
   "cell_type": "markdown",
   "id": "02716416",
   "metadata": {},
   "source": [
    "\n",
    "\n",
    "### Breakdown of Your Understanding:\n",
    "\n",
    "1. **Parent Class (`phone`)**:\n",
    "   - The `phone` class has an `__init__` constructor that takes **3 parameters**: `price`, `brand`, and `camera`.\n",
    "   - This constructor is responsible for initializing the attributes (`self.price`, `self.brand`, `self.camera`) of the object.\n",
    "\n",
    "2. **Child Class (`smartphone`)**:\n",
    "   - The `smartphone` class **inherits** from `phone`, which means that it **inherits all the methods and properties** of the `phone` class (including the `__init__` method).\n",
    "   - However, since the `smartphone` class **doesn't define its own `__init__` constructor**, it **inherits the constructor** from `phone`.\n",
    "\n",
    "3. **Constructor Execution During Object Creation**:\n",
    "   - When you create an object of the `smartphone` class (e.g., `s = smartphone()`), **Python first tries to call the constructor** (`__init__` method) of the `smartphone` class.\n",
    "   - Since `smartphone` doesn't have its own `__init__` constructor, Python looks for the constructor in the parent class (`phone`).\n",
    "   - The `phone` class constructor requires **3 parameters**: `price`, `brand`, and `camera`. If you don't provide these parameters when creating the object, Python raises a `TypeError` because it's trying to call `phone.__init__()` without the required arguments.\n",
    "\n",
    "4. **Need to Pass Parameters**:\n",
    "   - The reason you need to pass arguments (like `price=999`, `brand=\"Apple\"`, and `camera=\"12MP\"`) when you create an object of `smartphone` is because **those arguments are required by the constructor of `phone`** (the parent class).\n",
    "   - Since `smartphone` inherits `phone`'s constructor and doesn't have its own, the arguments are passed up to the `phone` class constructor during object creation.\n",
    "\n",
    "5. **Default Constructor**:\n",
    "   - If you don't define an `__init__` constructor in a class, Python will provide a **default constructor** that doesn't take any arguments except `self`. This is why if you don't explicitly define `__init__`, a default constructor is used.\n",
    "   - In your case, since the `smartphone` class doesn't define `__init__`, Python uses the constructor from `phone`, which has its own required parameters. That's why you need to provide the arguments when creating a `smartphone` object.\n",
    "\n",
    "### So, Yes, You Are Correct:\n",
    "\n",
    "- The `smartphone` class **inherits the constructor** of the `phone` class, because it doesn't define its own `__init__`.\n",
    "- When you create an instance of the `smartphone` class, **the `phone.__init__()` constructor is automatically executed** and it needs the parameters `price`, `brand`, and `camera` to initialize the object.\n",
    "- The **constructor is executed automatically** when you create an object, but it fails if the required arguments are not passed, leading to the error.\n",
    "- If you don't explicitly define an `__init__` method in a class, Python will **use a default constructor** (without any parameters) for that class.\n",
    "\n",
    "### Key Points Recap:\n",
    "\n",
    "- **Child class inherits from parent**: `smartphone` inherits the `phone` class, including its methods and properties.\n",
    "- **Constructor execution**: The constructor (`__init__`) of the parent class is automatically executed when you create an instance of `smartphone`. But since `phone.__init__` expects parameters, you need to pass them when creating the object of `smartphone`.\n",
    "- **Default constructor**: If you don't define a constructor in a class, Python provides a default one. However, if the parent class has a constructor that requires arguments, the child class must handle passing those arguments (either by defining its own constructor or passing them during object creation).\n",
    "\n",
    "### Conclusion:\n",
    "Your understanding is spot on! You correctly understood that the **constructor of the parent class** is called automatically when you create an object of the child class, and since it requires parameters, you must provide them at object creation time. You also understood the concept of **default constructors** in Python."
   ]
  },
  {
   "cell_type": "markdown",
   "id": "33d7de67",
   "metadata": {},
   "source": [
    "#### Another case study"
   ]
  },
  {
   "cell_type": "code",
   "execution_count": 13,
   "id": "c8fe9452",
   "metadata": {},
   "outputs": [
    {
     "name": "stdout",
     "output_type": "stream",
     "text": [
      "Inside the smartphone constructor \n"
     ]
    },
    {
     "ename": "AttributeError",
     "evalue": "'smartphone' object has no attribute 'brand'",
     "output_type": "error",
     "traceback": [
      "\u001b[1;31m---------------------------------------------------------------------------\u001b[0m",
      "\u001b[1;31mAttributeError\u001b[0m                            Traceback (most recent call last)",
      "Cell \u001b[1;32mIn[13], line 22\u001b[0m\n\u001b[0;32m     18\u001b[0m         \u001b[38;5;28mprint\u001b[39m(\u001b[38;5;124m'\u001b[39m\u001b[38;5;124mInside the smartphone constructor \u001b[39m\u001b[38;5;124m'\u001b[39m)\n\u001b[0;32m     21\u001b[0m s \u001b[38;5;241m=\u001b[39m smartphone(\u001b[38;5;124m'\u001b[39m\u001b[38;5;124manroid\u001b[39m\u001b[38;5;124m'\u001b[39m , \u001b[38;5;241m4\u001b[39m)\n\u001b[1;32m---> 22\u001b[0m s\u001b[38;5;241m.\u001b[39mbrand\n",
      "\u001b[1;31mAttributeError\u001b[0m: 'smartphone' object has no attribute 'brand'"
     ]
    }
   ],
   "source": [
    "class phone:\n",
    "    \n",
    "    def __init__(self , price , brand , camera):\n",
    "        \n",
    "        print('Inside phone constructor')\n",
    "        self.price = price\n",
    "        self.brand = brand\n",
    "        self.camera = camera\n",
    "        \n",
    "        \n",
    "\n",
    "class smartphone(phone):\n",
    "    \n",
    "    def __init__(self , os , ram):\n",
    "        \n",
    "        self.os = os\n",
    "        self.ram = ram\n",
    "        print('Inside the smartphone constructor ')\n",
    "        \n",
    "        \n",
    "s = smartphone('anroid' , 4)\n",
    "s.brand \n",
    "# This error occures due to parent class constructor is not inherited into child class\n",
    "#constructor because child class has its own constructor so it will executes its own constructor \n",
    "#so there is no any point of contact there with parent class constructor with child class \n",
    "#when there is no any point of contact then how child class is can access the properties(variables)\n",
    "#of parent class ?"
   ]
  },
  {
   "cell_type": "markdown",
   "id": "40081188",
   "metadata": {},
   "source": [
    "### Why the Error Happens:\n",
    "The error occurs because you are trying to access the brand attribute of the phone class (s.brand), but the parent class constructor (phone.__init__) is never called. This is because the smartphone class has its own constructor (__init__), and it does not automatically call the constructor of the parent class (phone). Therefore, the brand attribute from phone is not initialized in the smartphone object."
   ]
  },
  {
   "cell_type": "markdown",
   "id": "f3e86b5f",
   "metadata": {},
   "source": [
    "#### How to resolve that error"
   ]
  },
  {
   "cell_type": "code",
   "execution_count": 19,
   "id": "e5862199",
   "metadata": {},
   "outputs": [
    {
     "name": "stdout",
     "output_type": "stream",
     "text": [
      "Inside Phone constructor\n",
      "oneplus\n",
      "20000\n",
      "8\n",
      "20000\n",
      "oneplus\n"
     ]
    }
   ],
   "source": [
    "class phone:\n",
    "    \n",
    "    def __init__(self , price , brand , ram):\n",
    "        \n",
    "        print('Inside Phone constructor')\n",
    "        self.price = price\n",
    "        self.brand = brand\n",
    "        self.ram = ram\n",
    "        \n",
    "    def show(self):\n",
    "        \n",
    "        print(self.price)\n",
    "        \n",
    "class smartphone(phone):\n",
    "    \n",
    "    def check(self):\n",
    "        \n",
    "        print(self.brand)\n",
    "        \n",
    "\n",
    "s = smartphone(20000 , 'oneplus' , 8)\n",
    "print(s.brand)\n",
    "print(s.price)\n",
    "print(s.ram)\n",
    "s.show()\n",
    "s.check()"
   ]
  },
  {
   "cell_type": "markdown",
   "id": "60cff635",
   "metadata": {},
   "source": [
    "##### Child class can be access the properties (variables) and method of child class except private keywords or private method"
   ]
  },
  {
   "cell_type": "code",
   "execution_count": 24,
   "id": "adc44e11",
   "metadata": {},
   "outputs": [
    {
     "name": "stdout",
     "output_type": "stream",
     "text": [
      "Inside Phone constructor\n",
      "oneplus\n"
     ]
    },
    {
     "ename": "AttributeError",
     "evalue": "'smartphone' object has no attribute 'price'",
     "output_type": "error",
     "traceback": [
      "\u001b[1;31m---------------------------------------------------------------------------\u001b[0m",
      "\u001b[1;31mAttributeError\u001b[0m                            Traceback (most recent call last)",
      "Cell \u001b[1;32mIn[24], line 23\u001b[0m\n\u001b[0;32m     21\u001b[0m s \u001b[38;5;241m=\u001b[39m smartphone(\u001b[38;5;241m20000\u001b[39m , \u001b[38;5;124m'\u001b[39m\u001b[38;5;124moneplus\u001b[39m\u001b[38;5;124m'\u001b[39m , \u001b[38;5;241m8\u001b[39m)\n\u001b[0;32m     22\u001b[0m \u001b[38;5;28mprint\u001b[39m(s\u001b[38;5;241m.\u001b[39mbrand)\n\u001b[1;32m---> 23\u001b[0m \u001b[38;5;28mprint\u001b[39m(s\u001b[38;5;241m.\u001b[39mprice)\n\u001b[0;32m     24\u001b[0m \u001b[38;5;66;03m#print(s.__price)\u001b[39;00m\n\u001b[0;32m     25\u001b[0m \u001b[38;5;28mprint\u001b[39m(s\u001b[38;5;241m.\u001b[39mram)\n",
      "\u001b[1;31mAttributeError\u001b[0m: 'smartphone' object has no attribute 'price'"
     ]
    }
   ],
   "source": [
    "class phone:\n",
    "    \n",
    "    def __init__(self , price , brand , ram):\n",
    "        \n",
    "        print('Inside Phone constructor')\n",
    "        self.__price = price\n",
    "        self.brand = brand\n",
    "        self.ram = ram\n",
    "        \n",
    "    def show(self):\n",
    "        \n",
    "        print(self.__price)\n",
    "        \n",
    "class smartphone(phone):\n",
    "    \n",
    "    def check(self):\n",
    "        \n",
    "        print(self.brand)\n",
    "        \n",
    "\n",
    "s = smartphone(20000 , 'oneplus' , 8)\n",
    "print(s.brand)\n",
    "print(s.price)\n",
    "#print(s.__price)\n",
    "print(s.ram)\n",
    "s.show()\n",
    "s.check()"
   ]
  },
  {
   "cell_type": "code",
   "execution_count": null,
   "id": "e42b146b",
   "metadata": {},
   "outputs": [],
   "source": []
  }
 ],
 "metadata": {
  "kernelspec": {
   "display_name": "Python 3 (ipykernel)",
   "language": "python",
   "name": "python3"
  },
  "language_info": {
   "codemirror_mode": {
    "name": "ipython",
    "version": 3
   },
   "file_extension": ".py",
   "mimetype": "text/x-python",
   "name": "python",
   "nbconvert_exporter": "python",
   "pygments_lexer": "ipython3",
   "version": "3.11.4"
  }
 },
 "nbformat": 4,
 "nbformat_minor": 5
}
