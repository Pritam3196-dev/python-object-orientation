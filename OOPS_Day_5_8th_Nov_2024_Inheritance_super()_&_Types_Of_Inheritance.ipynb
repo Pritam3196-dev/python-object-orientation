{
 "cells": [
  {
   "cell_type": "code",
   "execution_count": 7,
   "id": "53316d0c",
   "metadata": {},
   "outputs": [
    {
     "name": "stdout",
     "output_type": "stream",
     "text": [
      "1000\n",
      "Showcase child method\n"
     ]
    }
   ],
   "source": [
    "class parent:    # Parent class / Base class / Super class\n",
    "    \n",
    "    def __init__(self , num):   # constructor of parent class\n",
    "        \n",
    "        self.number = num\n",
    "        \n",
    "    def get_num(self):   # Getter method : It returns only value of insance variable\n",
    "        \n",
    "        return self.number          # return instance variable\n",
    "    \n",
    "\n",
    "\n",
    "class child(parent):      # Child class / Derived class / sub class\n",
    "    \n",
    "    def show(self):       # instance method\n",
    "        \n",
    "        print('Showcase child method')\n",
    "        \n",
    "    \n",
    "c = child(1000)        # calling child class and create object\n",
    "print(c.get_num())\n",
    "c.show()"
   ]
  },
  {
   "cell_type": "markdown",
   "id": "920eb44d",
   "metadata": {},
   "source": [
    "#### Here parent class is inherited into child class so we need to pass args to child class . because every class has constructor 1.definded by ourself 2.bydefault . Here there is no defined by ourself (in child) so it take from parent class because its inherited .(This is the point of contact)"
   ]
  },
  {
   "cell_type": "code",
   "execution_count": 18,
   "id": "db4de2bc",
   "metadata": {},
   "outputs": [
    {
     "name": "stdout",
     "output_type": "stream",
     "text": [
      "Parent : 100\n"
     ]
    }
   ],
   "source": [
    "class parent:\n",
    "    \n",
    "    def __init__(self):\n",
    "        \n",
    "        self.num1 = 100\n",
    "        \n",
    "    def display(self , num1):\n",
    "        print('Parent :' , self.num1)\n",
    "        \n",
    "    \n",
    "\n",
    "class child(parent):\n",
    "    \n",
    "    def display2(self , num1):\n",
    "        \n",
    "        print('Child:' , self.num1)\n",
    "        \n",
    "c = child()\n",
    "c.display(200)"
   ]
  },
  {
   "cell_type": "markdown",
   "id": "50f914af",
   "metadata": {},
   "source": [
    "#### Here , most interesting thing , output is printed 100 the reason is  , before that we defined the value of num1 is 100 (as hardcoded) after that we call c.dispay(200) .. but it print 100 only... display is method having two arguments one is self and other is num1 and num1 is getting 200 value at the of calling  so this num1 variable (of display method) is local variable . so local variable is created when at the time method get started execution and it will get destroy after execution completed... the area of local variable is inside the method only .... so when you put num1 as num1 only then interpreter understands its num1(local variable) is it will print 200 but here it put self.num1 means interpreter get understands its about instance method . because self is the variable which access instance varaibels and instance methods.... so its printing 100 only"
   ]
  },
  {
   "cell_type": "markdown",
   "id": "94b74042",
   "metadata": {},
   "source": [
    "##### If print 200 then make it as local variable only"
   ]
  },
  {
   "cell_type": "code",
   "execution_count": 19,
   "id": "66464b78",
   "metadata": {},
   "outputs": [
    {
     "name": "stdout",
     "output_type": "stream",
     "text": [
      "Parent : 200\n"
     ]
    }
   ],
   "source": [
    "class parent:\n",
    "    \n",
    "    def __init__(self):\n",
    "        \n",
    "        self.num1 = 100\n",
    "        \n",
    "    def display(self , num1):\n",
    "        print('Parent :' , num1)\n",
    "        \n",
    "    \n",
    "\n",
    "class child(parent):\n",
    "    \n",
    "    def display2(self , num1):\n",
    "        \n",
    "        print('Child:' , self.num1)\n",
    "        \n",
    "c = child()\n",
    "c.display(200)"
   ]
  },
  {
   "cell_type": "markdown",
   "id": "7cdaa68b",
   "metadata": {},
   "source": [
    "### Create Parent and Child class with same name methods"
   ]
  },
  {
   "cell_type": "code",
   "execution_count": 20,
   "id": "c13a002a",
   "metadata": {},
   "outputs": [
    {
     "name": "stdout",
     "output_type": "stream",
     "text": [
      "Inside the parent constructor\n",
      "Buying Smartphone\n"
     ]
    }
   ],
   "source": [
    "class parent:\n",
    "    \n",
    "    def __init__(self , price , brand , camera):\n",
    "        \n",
    "        print('Inside the parent constructor')\n",
    "        self.price = price\n",
    "        self.brand = brand\n",
    "        self.camera = camera\n",
    "        \n",
    "        \n",
    "    def buy(self):   # same method in child class also\n",
    "        \n",
    "        \n",
    "        print('Buying Phone')\n",
    "        \n",
    "        \n",
    "class child(parent):\n",
    "    \n",
    "    \n",
    "    def buy(self):  # same method in parent class also\n",
    "        \n",
    "        print('Buying Smartphone')\n",
    "        \n",
    "\n",
    "c = child(1000 , 'Iphone' , 32)\n",
    "c.buy()"
   ]
  },
  {
   "cell_type": "markdown",
   "id": "f4656d04",
   "metadata": {},
   "source": [
    "#### This is printing child class method buy() because if child class have same method name or same method which have parent class also then it consider / it access of its own method instead of parent class"
   ]
  },
  {
   "cell_type": "markdown",
   "id": "f0415814",
   "metadata": {},
   "source": [
    "## Super key\n",
    "\n",
    "#### super key is built in function that allows to access properties(not attributes / variables) and methods of parent class in child class in OOPS"
   ]
  },
  {
   "cell_type": "code",
   "execution_count": 26,
   "id": "57461ec4",
   "metadata": {},
   "outputs": [
    {
     "name": "stdout",
     "output_type": "stream",
     "text": [
      "Parent class constructor\n",
      "Buying Phone\n",
      "Buying smartphone\n"
     ]
    }
   ],
   "source": [
    "class Phone :   # parent class / super class / Base class\n",
    "    \n",
    "    def __init__(self , price , brand , camera):\n",
    "        \n",
    "        print('Parent class constructor')\n",
    "        self.price = price\n",
    "        self.brand = brand\n",
    "        self.camera = camera\n",
    "        \n",
    "    def buy(self):\n",
    "        print('Buying Phone')\n",
    "        \n",
    "class Smartphone(Phone):\n",
    "    \n",
    "    def buy(self):\n",
    "        \n",
    "        super().buy()\n",
    "        \n",
    "        print('Buying smartphone')\n",
    "        \n",
    "        \n",
    "        \n",
    "        \n",
    "s = Smartphone(1000 , 'OnePlus' , 40)\n",
    "s.buy()"
   ]
  },
  {
   "cell_type": "code",
   "execution_count": 25,
   "id": "46020847",
   "metadata": {},
   "outputs": [
    {
     "name": "stdout",
     "output_type": "stream",
     "text": [
      "Parent class constructor\n",
      "Buying Phone\n"
     ]
    }
   ],
   "source": [
    "class Phone :   # parent class / super class / Base class\n",
    "    \n",
    "    def __init__(self , price , brand , camera):\n",
    "        \n",
    "        print('Parent class constructor')\n",
    "        self.price = price\n",
    "        self.brand = brand\n",
    "        self.camera = camera\n",
    "        \n",
    "    def buy(self):\n",
    "        print('Buying Phone')\n",
    "        \n",
    "class Smartphone(Phone):\n",
    "    \n",
    "    def buy(self):\n",
    "        \n",
    "        super().buy()\n",
    "        \n",
    "        \n",
    "        \n",
    "        \n",
    "s = Smartphone(1000 , 'OnePlus' , 40)\n",
    "s.buy()"
   ]
  },
  {
   "cell_type": "markdown",
   "id": "181c22b4",
   "metadata": {},
   "source": [
    "## Super key only can access or call or read the method of parent class in child class but super key it can not read or access the attributes / variables"
   ]
  },
  {
   "cell_type": "code",
   "execution_count": 27,
   "id": "63d12c04",
   "metadata": {},
   "outputs": [
    {
     "name": "stdout",
     "output_type": "stream",
     "text": [
      "Parent class constructor\n"
     ]
    },
    {
     "ename": "AttributeError",
     "evalue": "'super' object has no attribute 'brand'",
     "output_type": "error",
     "traceback": [
      "\u001b[1;31m---------------------------------------------------------------------------\u001b[0m",
      "\u001b[1;31mAttributeError\u001b[0m                            Traceback (most recent call last)",
      "Cell \u001b[1;32mIn[27], line 23\u001b[0m\n\u001b[0;32m     17\u001b[0m         \u001b[38;5;28mprint\u001b[39m(\u001b[38;5;28msuper\u001b[39m()\u001b[38;5;241m.\u001b[39mbrand)\n\u001b[0;32m     22\u001b[0m s \u001b[38;5;241m=\u001b[39m Smartphone(\u001b[38;5;241m1000\u001b[39m , \u001b[38;5;124m'\u001b[39m\u001b[38;5;124mOnePlus\u001b[39m\u001b[38;5;124m'\u001b[39m , \u001b[38;5;241m40\u001b[39m)\n\u001b[1;32m---> 23\u001b[0m s\u001b[38;5;241m.\u001b[39mbuy()\n",
      "Cell \u001b[1;32mIn[27], line 17\u001b[0m, in \u001b[0;36mSmartphone.buy\u001b[1;34m(self)\u001b[0m\n\u001b[0;32m     15\u001b[0m \u001b[38;5;28;01mdef\u001b[39;00m \u001b[38;5;21mbuy\u001b[39m(\u001b[38;5;28mself\u001b[39m):\n\u001b[1;32m---> 17\u001b[0m     \u001b[38;5;28mprint\u001b[39m(\u001b[38;5;28msuper\u001b[39m()\u001b[38;5;241m.\u001b[39mbrand)\n",
      "\u001b[1;31mAttributeError\u001b[0m: 'super' object has no attribute 'brand'"
     ]
    }
   ],
   "source": [
    "class Phone :   # parent class / super class / Base class\n",
    "    \n",
    "    def __init__(self , price , brand , camera):\n",
    "        \n",
    "        print('Parent class constructor')\n",
    "        self.__price = price\n",
    "        self.brand = brand\n",
    "        self.camera = camera\n",
    "        \n",
    "    def buy(self):\n",
    "        print('Buying Phone')\n",
    "        \n",
    "class Smartphone(Phone):\n",
    "    \n",
    "    def buy(self):\n",
    "        \n",
    "        print(super().brand)\n",
    "        \n",
    "        \n",
    "        \n",
    "        \n",
    "s = Smartphone(1000 , 'OnePlus' , 40)\n",
    "s.buy()"
   ]
  },
  {
   "cell_type": "code",
   "execution_count": 32,
   "id": "b33bcc04",
   "metadata": {},
   "outputs": [
    {
     "name": "stdout",
     "output_type": "stream",
     "text": [
      "Child Constructor\n",
      "Child Constructor\n"
     ]
    }
   ],
   "source": [
    "class Phone:\n",
    "    \n",
    "    def __init__(self , price , brand , camera):\n",
    "        \n",
    "        self.price = price\n",
    "        self.brand = brand\n",
    "        self.camera = camera\n",
    "    \n",
    "    \n",
    "class Smartphone(Phone):\n",
    "    \n",
    "    def __init__(self , price , brand , camera , os , ram):\n",
    "        \n",
    "        print('Child Constructor')\n",
    "        self.os = os\n",
    "        self.ram = ram\n",
    "        \n",
    "        print('Child Constructor')\n",
    "        \n",
    "        \n",
    "s = Smartphone(20000 , 'SamSung' , 45 , 'Android' , 12)"
   ]
  },
  {
   "cell_type": "code",
   "execution_count": 33,
   "id": "1e6c640a",
   "metadata": {},
   "outputs": [
    {
     "name": "stdout",
     "output_type": "stream",
     "text": [
      "Child Constructor\n",
      "Child Constructor\n",
      "Android\n",
      "12\n"
     ]
    }
   ],
   "source": [
    "class Phone:\n",
    "    \n",
    "    def __init__(self , price , brand , camera):\n",
    "        \n",
    "        self.price = price\n",
    "        self.brand = brand\n",
    "        self.camera = camera\n",
    "    \n",
    "    \n",
    "class Smartphone(Phone):\n",
    "    \n",
    "    def __init__(self , price , brand , camera , os , ram):\n",
    "        \n",
    "        print('Child Constructor')\n",
    "        self.os = os\n",
    "        self.ram = ram\n",
    "        \n",
    "        print('Child Constructor')\n",
    "        \n",
    "        \n",
    "s = Smartphone(20000 , 'SamSung' , 45 , 'Android' , 12)\n",
    "print(s.os)\n",
    "print(s.ram)"
   ]
  },
  {
   "cell_type": "code",
   "execution_count": 34,
   "id": "297e72e6",
   "metadata": {},
   "outputs": [
    {
     "name": "stdout",
     "output_type": "stream",
     "text": [
      "Child Constructor\n",
      "Child Constructor\n"
     ]
    },
    {
     "ename": "AttributeError",
     "evalue": "'Smartphone' object has no attribute 'price'",
     "output_type": "error",
     "traceback": [
      "\u001b[1;31m---------------------------------------------------------------------------\u001b[0m",
      "\u001b[1;31mAttributeError\u001b[0m                            Traceback (most recent call last)",
      "Cell \u001b[1;32mIn[34], line 22\u001b[0m\n\u001b[0;32m     18\u001b[0m         \u001b[38;5;28mprint\u001b[39m(\u001b[38;5;124m'\u001b[39m\u001b[38;5;124mChild Constructor\u001b[39m\u001b[38;5;124m'\u001b[39m)\n\u001b[0;32m     21\u001b[0m s \u001b[38;5;241m=\u001b[39m Smartphone(\u001b[38;5;241m20000\u001b[39m , \u001b[38;5;124m'\u001b[39m\u001b[38;5;124mSamSung\u001b[39m\u001b[38;5;124m'\u001b[39m , \u001b[38;5;241m45\u001b[39m , \u001b[38;5;124m'\u001b[39m\u001b[38;5;124mAndroid\u001b[39m\u001b[38;5;124m'\u001b[39m , \u001b[38;5;241m12\u001b[39m)\n\u001b[1;32m---> 22\u001b[0m \u001b[38;5;28mprint\u001b[39m(s\u001b[38;5;241m.\u001b[39mprice)\n\u001b[0;32m     23\u001b[0m \u001b[38;5;28mprint\u001b[39m(s\u001b[38;5;241m.\u001b[39mbrand)\n",
      "\u001b[1;31mAttributeError\u001b[0m: 'Smartphone' object has no attribute 'price'"
     ]
    }
   ],
   "source": [
    "class Phone:\n",
    "    \n",
    "    def __init__(self , price , brand , camera):\n",
    "        \n",
    "        self.price = price\n",
    "        self.brand = brand\n",
    "        self.camera = camera\n",
    "    \n",
    "    \n",
    "class Smartphone(Phone):\n",
    "    \n",
    "    def __init__(self , price , brand , camera , os , ram):\n",
    "        \n",
    "        print('Child Constructor')\n",
    "        self.os = os\n",
    "        self.ram = ram\n",
    "        \n",
    "        print('Child Constructor')\n",
    "        \n",
    "        \n",
    "s = Smartphone(20000 , 'SamSung' , 45 , 'Android' , 12)\n",
    "print(s.price)\n",
    "print(s.brand)"
   ]
  },
  {
   "cell_type": "markdown",
   "id": "449f7f3b",
   "metadata": {},
   "source": [
    "#### Here it throw error for not recognizing price object by smartphone class . The reason is , Lest understand from initial , parent class are initializing and declaring three variables called price , brand , camera (In constructor of parent class). main purpose of constructor is to initialize and declare instance variable only.\n",
    "#### and child class initialize and declaring two variables called ram and os (In child class constructor). Here we defined seperate / own constructor of child class so parent class contructor is not inherited into child class . so when child class access the variables / attributes of parent class it is not recognise / access it . so it get error . Because of this, when you try to access s.price or s.brand in the Smartphone object, those attributes don't exist in the child class instance, resulting in an error."
   ]
  },
  {
   "cell_type": "code",
   "execution_count": 36,
   "id": "7f5047a9",
   "metadata": {},
   "outputs": [
    {
     "name": "stdout",
     "output_type": "stream",
     "text": [
      "10000\n",
      "SmaSung\n",
      "45\n",
      "Android\n",
      "12\n"
     ]
    }
   ],
   "source": [
    "class Phone:\n",
    "    \n",
    "    def __init__(self , price , brand , camera): # constructor is special method in class\n",
    "        \n",
    "        self.price = price\n",
    "        self.brand = brand\n",
    "        self.camera = camera\n",
    "        \n",
    "    \n",
    "class Smartphone(Phone):\n",
    "    \n",
    "    def __init__(self , price , brand , camera , os , ram):\n",
    "        \n",
    "        super().__init__(price , brand , camera)  #super key we access constructor of parent class\n",
    "        self.os = os\n",
    "        self.ram = ram\n",
    "        \n",
    "s = Smartphone(10000 , 'SmaSung' , 45 , 'Android' , 12)\n",
    "print(s.price)\n",
    "print(s.brand)\n",
    "print(s.camera)\n",
    "print(s.os)\n",
    "print(s.ram)"
   ]
  },
  {
   "cell_type": "markdown",
   "id": "d1b90ba6",
   "metadata": {},
   "source": [
    "#### Here , Those variables are not accessible by child class because of this three variables price , brand , camera are initialize and declare in parent class(constructor) only so it can not be acces(because child class has its own constructor so there is no make sense to inherit parent class conetructor in child class so there is no make any point of contact). but we have one built in function called super() which allows access the properties and methods of parent class in child class. but it can access only method not variable. so we mention super() in child class and access sontructor of parent class and pass there parameters(constrctor is special method). so then we can access the variables which are initialize and declare in parent class only"
   ]
  },
  {
   "cell_type": "markdown",
   "id": "4b386975",
   "metadata": {},
   "source": [
    "### Types of Inheritance\n",
    "\n",
    "#### 1.single Inheritance\n",
    "#### 2.Multiple/ Diamond Inheritance\n",
    "#### 3.Multilevel Inheritance\n",
    "#### 4.Hierarchical Inheritance\n",
    "#### 5.Hybrid Inheritance"
   ]
  },
  {
   "cell_type": "markdown",
   "id": "343a0fb8",
   "metadata": {},
   "source": [
    "### 1.Single Inheritance : One parent and one child "
   ]
  },
  {
   "cell_type": "code",
   "execution_count": 2,
   "id": "95f2d1b4",
   "metadata": {},
   "outputs": [
    {
     "name": "stdout",
     "output_type": "stream",
     "text": [
      "Inside Phone Constructor\n",
      "Buying a phone\n"
     ]
    }
   ],
   "source": [
    "class Phone:                  # Parent Class\n",
    "    \n",
    "    def __init__(self , price , brand , camera):\n",
    "        \n",
    "        print('Inside Phone Constructor')\n",
    "        self.price = price\n",
    "        self.brand = brand\n",
    "        self.camera = camera\n",
    "        \n",
    "    def buy(self):\n",
    "        \n",
    "        print('Buying a phone')\n",
    "        \n",
    "class Smartphone(Phone):     # child Class\n",
    "    \n",
    "    pass\n",
    "\n",
    "Smartphone(10000 , 'SamSung' , 50).buy()"
   ]
  },
  {
   "cell_type": "markdown",
   "id": "e6e0d02f",
   "metadata": {},
   "source": [
    "#### Single Inheritance : One parent and one child i.e.single inheritance"
   ]
  },
  {
   "cell_type": "markdown",
   "id": "b9779f6d",
   "metadata": {},
   "source": [
    "### 2.Multilevel Inheritance : \n",
    "\n",
    "##### It contains multiple levels of Inheritance from ancesters to descents . eg : class grandfather inherited into class father and class father inherited into class child . so father has access of Grandfather class and son has access of father class . then child class is can definately access of grandfather class"
   ]
  },
  {
   "cell_type": "code",
   "execution_count": 15,
   "id": "ba2929be",
   "metadata": {},
   "outputs": [
    {
     "name": "stdout",
     "output_type": "stream",
     "text": [
      "This is Mercedes car of Grandfather\n",
      "This house is build by father\n",
      "This shop build by Grandson\n"
     ]
    }
   ],
   "source": [
    "class Grandfather:      # One class      # first level\n",
    "    \n",
    "    def __init__(self , car):\n",
    "        \n",
    "        self.car = car\n",
    "        \n",
    "    def car_model(self):\n",
    "        \n",
    "        print('This is {0} car of Grandfather'.format(self.car))\n",
    "        \n",
    "class Father(Grandfather):                  # Second class     #  second level\n",
    "    \n",
    "    def house(self):\n",
    "        \n",
    "        print('This house is build by father')\n",
    "        \n",
    "class Son(Father):                     # Third class         # third level\n",
    "    \n",
    "    def shop(self):\n",
    "        \n",
    "        print('This shop build by Grandson')\n",
    "        \n",
    "s = Son('Mercedes')\n",
    "s.car_model()\n",
    "s.house()\n",
    "s.shop()"
   ]
  },
  {
   "cell_type": "markdown",
   "id": "3794ac68",
   "metadata": {},
   "source": [
    "##### Here multiple levels of class and this levels are inherited into child class . basically it make point of contact like grandfather get inherited into father and father inherited into child so child is can access father and grandfather."
   ]
  },
  {
   "cell_type": "code",
   "execution_count": 19,
   "id": "36fe0d9f",
   "metadata": {},
   "outputs": [
    {
     "name": "stdout",
     "output_type": "stream",
     "text": [
      "Namaste Dear folks\n",
      "going to home\n"
     ]
    }
   ],
   "source": [
    "class Grandfather:\n",
    "    \n",
    "    def review(self):\n",
    "        \n",
    "        print('Namaste Dear folks')\n",
    "        \n",
    "    \n",
    "class Father(Grandfather):\n",
    "    \n",
    "    def __init__(self , state , location , salary):\n",
    "        \n",
    "        self.state = state\n",
    "        self.location = location\n",
    "        self.salary = salary\n",
    "        \n",
    "    def place(self):\n",
    "        \n",
    "        print('going to home')\n",
    "        \n",
    "class Child(Father):\n",
    "    pass\n",
    "\n",
    "c = Child('Gujrat' , 'GandhiNagar' , 1202020)\n",
    "c.review()\n",
    "c.place()"
   ]
  },
  {
   "cell_type": "markdown",
   "id": "5bdea6a0",
   "metadata": {},
   "source": [
    "#### Here in s.review() not throw any error because of python allows child class to access properties  and methods of parent class if parent class don't have any constructor."
   ]
  },
  {
   "cell_type": "code",
   "execution_count": 22,
   "id": "0310f439",
   "metadata": {},
   "outputs": [
    {
     "name": "stdout",
     "output_type": "stream",
     "text": [
      "This is large\n"
     ]
    }
   ],
   "source": [
    "class large:     # parent class\n",
    "    \n",
    "    def amount(self):\n",
    "        print('This is large')\n",
    "        \n",
    "class small(large):   # child class\n",
    "    \n",
    "    def less_amount(self):\n",
    "        print('This is small')\n",
    "        \n",
    "s = small()\n",
    "s.amount()"
   ]
  },
  {
   "cell_type": "markdown",
   "id": "f174b01c",
   "metadata": {},
   "source": [
    "#### Here parent class has not its own constructor but then child class is  can be access methods and properties of parent class because python it allows"
   ]
  },
  {
   "cell_type": "code",
   "execution_count": 23,
   "id": "1f6b34a6",
   "metadata": {},
   "outputs": [
    {
     "name": "stdout",
     "output_type": "stream",
     "text": [
      "This is large\n"
     ]
    }
   ],
   "source": [
    "class large:     # parent class\n",
    "    \n",
    "    def amount(self):\n",
    "        print('This is large')\n",
    "        \n",
    "class small(large):   # child class\n",
    "    \n",
    "    def __init__(self , machine):\n",
    "        \n",
    "        self.machine = machine\n",
    "    \n",
    "    def less_amount(self):\n",
    "        print('This is small')\n",
    "        \n",
    "s = small('Lenovo')\n",
    "s.amount()"
   ]
  },
  {
   "cell_type": "markdown",
   "id": "69974c37",
   "metadata": {},
   "source": [
    "#### Here parent class has not its own constructor but then child class is can be access methods and properties of parent class because python it allows"
   ]
  },
  {
   "cell_type": "markdown",
   "id": "9c3b7b48",
   "metadata": {},
   "source": [
    "### 3.Hierarchical Inheritance :\n",
    " \n",
    "#### Hierarchical inheritance  is  means one parent having multiple child"
   ]
  },
  {
   "cell_type": "code",
   "execution_count": 28,
   "id": "ddd802d1",
   "metadata": {},
   "outputs": [
    {
     "name": "stdout",
     "output_type": "stream",
     "text": [
      "I am Motocycle\n",
      "I am car\n",
      "General Usage : Transportation\n",
      "General Usage : Transportation\n",
      "General Usage : Transportation\n",
      "specific Usage : Racing , Travelling\n",
      "General Usage : Transportation\n",
      "Specific Usage : Communicate to work and vacations\n"
     ]
    }
   ],
   "source": [
    "class Vehical:   # Parent class\n",
    "    \n",
    "    def general_usage(self):\n",
    "        \n",
    "        print('General Usage : Transportation')\n",
    "        \n",
    "    \n",
    "class Car(Vehical):     # child class for vehical class\n",
    "    \n",
    "    def __init__(self):\n",
    "        \n",
    "        print('I am car')\n",
    "        \n",
    "        self.wheels = 4\n",
    "        self.has_roof = True\n",
    "        \n",
    "    def specific_usage(self):\n",
    "        self.general_usage()   # by self access the instance method\n",
    "        \n",
    "        print('Specific Usage : Communicate to work and vacations')\n",
    "        \n",
    "    \n",
    "class Motorcycle(Vehical):    # child class for vehical class\n",
    "    \n",
    "    def __init__(self):\n",
    "        \n",
    "        print('I am Motocycle')\n",
    "        \n",
    "        self.wheels = 2\n",
    "        self.has_roof = False\n",
    "        \n",
    "    def specific_usage(self):\n",
    "        \n",
    "        self.general_usage()   # by self access the instance method\n",
    "        \n",
    "        print('specific Usage : Racing , Travelling')\n",
    "        \n",
    "m = Motorcycle()\n",
    "c = Car()\n",
    "m.general_usage()\n",
    "c.general_usage()\n",
    "m.specific_usage()\n",
    "c.specific_usage()"
   ]
  },
  {
   "cell_type": "markdown",
   "id": "eeb4ba41",
   "metadata": {},
   "source": [
    "#### Vehical class having two child one is car and another is Motorcycle"
   ]
  },
  {
   "cell_type": "markdown",
   "id": "7c494b95",
   "metadata": {},
   "source": [
    "### 4.Multiple Inheritance\n",
    "\n",
    "##### Multiple inheritance means one child is derived by more than one parent (like father , mother)"
   ]
  },
  {
   "cell_type": "code",
   "execution_count": 40,
   "id": "23fea1dc",
   "metadata": {},
   "outputs": [
    {
     "name": "stdout",
     "output_type": "stream",
     "text": [
      "This Bunglow house is owned by father\n",
      "This land owned by mother\n",
      "Shop is owned by child\n"
     ]
    }
   ],
   "source": [
    "class Father:\n",
    "    \n",
    "    def __init__(self , house):\n",
    "        \n",
    "        self.house = house\n",
    "        \n",
    "    def house_father(self):\n",
    "        \n",
    "        print(f'This {self.house} house is owned by father')\n",
    "        \n",
    "class Mother:\n",
    "    \n",
    "    def land_mother(self):\n",
    "        \n",
    "        print('This land owned by mother')\n",
    "        \n",
    "class Child(Father , Mother):    # one child is derived by more than one parent i.e.Father,Mother\n",
    "    \n",
    "    def shop(self):\n",
    "        \n",
    "        print('Shop is owned by child')\n",
    "        \n",
    "c = Child('Bunglow')\n",
    "c.house_father()\n",
    "c.land_mother()\n",
    "c.shop()"
   ]
  },
  {
   "cell_type": "code",
   "execution_count": null,
   "id": "c5aafe67",
   "metadata": {},
   "outputs": [],
   "source": []
  }
 ],
 "metadata": {
  "kernelspec": {
   "display_name": "Python 3 (ipykernel)",
   "language": "python",
   "name": "python3"
  },
  "language_info": {
   "codemirror_mode": {
    "name": "ipython",
    "version": 3
   },
   "file_extension": ".py",
   "mimetype": "text/x-python",
   "name": "python",
   "nbconvert_exporter": "python",
   "pygments_lexer": "ipython3",
   "version": "3.11.4"
  }
 },
 "nbformat": 4,
 "nbformat_minor": 5
}
