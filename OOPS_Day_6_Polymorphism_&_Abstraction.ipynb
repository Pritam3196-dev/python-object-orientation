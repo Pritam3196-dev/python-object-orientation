{
 "cells": [
  {
   "cell_type": "markdown",
   "id": "c01b49eb",
   "metadata": {},
   "source": [
    "### Multiple Inheritance / Diamond Inheritance"
   ]
  },
  {
   "cell_type": "markdown",
   "id": "0b3ab99e",
   "metadata": {},
   "source": [
    "#### One child is derived by more than one parent"
   ]
  },
  {
   "cell_type": "code",
   "execution_count": 5,
   "id": "511e1dcf",
   "metadata": {},
   "outputs": [
    {
     "name": "stdout",
     "output_type": "stream",
     "text": [
      "Inside Phone Constructor\n",
      "Please buy  Iphonepromax\n",
      "Please provide honest feedback\n"
     ]
    }
   ],
   "source": [
    "class Phone:   # parent class\n",
    "    \n",
    "    def __init__(self , price , brand , camera):\n",
    "        \n",
    "        print('Inside Phone Constructor')\n",
    "        self.price = price\n",
    "        self.brand = brand\n",
    "        self.camera = camera\n",
    "        \n",
    "    def buy(self):\n",
    "        \n",
    "        print('Please buy ' , self.brand)\n",
    "        \n",
    "class Product:  # another parent class\n",
    "    \n",
    "    def review(self):\n",
    "        \n",
    "        print('Please provide honest feedback')\n",
    "        \n",
    "class Smartphone(Phone , Product):\n",
    "    \n",
    "    pass\n",
    "\n",
    "\n",
    "s = Smartphone(10000 , 'Iphonepromax' , 45)\n",
    "s.buy()\n",
    "s.review()"
   ]
  },
  {
   "cell_type": "markdown",
   "id": "129ca2ac",
   "metadata": {},
   "source": [
    "#### When both parent have same method then"
   ]
  },
  {
   "cell_type": "code",
   "execution_count": 6,
   "id": "ba1463b2",
   "metadata": {},
   "outputs": [
    {
     "name": "stdout",
     "output_type": "stream",
     "text": [
      "Inside Phone Constructor\n",
      "Please buy  Iphonepromax\n"
     ]
    }
   ],
   "source": [
    "class Phone:   # parent class\n",
    "    \n",
    "    def __init__(self , price , brand , camera):\n",
    "        \n",
    "        print('Inside Phone Constructor')\n",
    "        self.price = price\n",
    "        self.brand = brand\n",
    "        self.camera = camera\n",
    "        \n",
    "    def buy(self):                        # same method\n",
    "        \n",
    "        print('Please buy ' , self.brand)\n",
    "        \n",
    "class Product:  # another parent class\n",
    "    \n",
    "    def buy(self):                       # same method\n",
    "        \n",
    "        print('Please provide honest feedback')\n",
    "        \n",
    "class Smartphone(Phone , Product):# It depends on this params order which is first then it execute\n",
    "    \n",
    "    pass\n",
    "\n",
    "\n",
    "s = Smartphone(10000 , 'Iphonepromax' , 45)\n",
    "s.buy()\n",
    "#s.review()"
   ]
  },
  {
   "cell_type": "code",
   "execution_count": 9,
   "id": "4965ad15",
   "metadata": {},
   "outputs": [
    {
     "name": "stdout",
     "output_type": "stream",
     "text": [
      "Inside Phone Constructor\n",
      "Please provide honest feedback\n"
     ]
    }
   ],
   "source": [
    "class Phone:   # parent class\n",
    "    \n",
    "    def __init__(self , price , brand , camera):\n",
    "        \n",
    "        print('Inside Phone Constructor')\n",
    "        self.price = price\n",
    "        self.brand = brand\n",
    "        self.camera = camera\n",
    "        \n",
    "    def buy(self):                        # same method\n",
    "        \n",
    "        print('Please buy ' , self.brand)\n",
    "        \n",
    "class Product:  # another parent class\n",
    "    \n",
    "    def buy(self):                       # same method\n",
    "        \n",
    "        print('Please provide honest feedback')\n",
    "        \n",
    "class Smartphone(Product , Phone):# It depends on this params order which is first then it execute\n",
    "    \n",
    "    pass\n",
    "\n",
    "\n",
    "s = Smartphone(10000 , 'Iphonepromax' , 45)\n",
    "s.buy()\n",
    "#s.review()"
   ]
  },
  {
   "cell_type": "code",
   "execution_count": 10,
   "id": "a70a37cc",
   "metadata": {},
   "outputs": [
    {
     "name": "stdout",
     "output_type": "stream",
     "text": [
      "800\n"
     ]
    }
   ],
   "source": [
    "class Grandparent:\n",
    "    \n",
    "    def abc(self):\n",
    "        \n",
    "        return 100\n",
    "    \n",
    "class Parent(Grandparent):\n",
    "    \n",
    "    def abc(self):\n",
    "        \n",
    "        return 200\n",
    "    \n",
    "    def bcd(self):\n",
    "        \n",
    "        return 300\n",
    "    \n",
    "class Child(Parent):\n",
    "    \n",
    "    def bcd(self):\n",
    "        \n",
    "        return 500\n",
    "    \n",
    "obj1 = Grandparent()\n",
    "obj2 = Parent()\n",
    "obj3 = Child()\n",
    "print(obj1.abc() + obj2.abc() + obj3.bcd())"
   ]
  },
  {
   "cell_type": "markdown",
   "id": "559eb4d6",
   "metadata": {},
   "source": [
    "## Polymorphism"
   ]
  },
  {
   "cell_type": "markdown",
   "id": "537f686a",
   "metadata": {},
   "source": [
    "### 1.Operator overloading\n",
    "### 2.Method overloading\n",
    "### 3.Method overriding"
   ]
  },
  {
   "cell_type": "markdown",
   "id": "8fffcdc6",
   "metadata": {},
   "source": [
    "### 3.Method Overriding"
   ]
  },
  {
   "cell_type": "markdown",
   "id": "f2d3b3d1",
   "metadata": {},
   "source": [
    "#### Method overriding is nothing but same name with diffrerent implementations . name of the methods are same but implementataions of this methods are different\n",
    "#### There is inroduce concept of inheritance also . because inheritance make point of contact for accessing properties and methods of parent class by child class. if inheritance is not there then no any issue because all classess are independent . due to inheritance it get access. so classes having same name methods but implementations are different "
   ]
  },
  {
   "cell_type": "code",
   "execution_count": 13,
   "id": "e29136fa",
   "metadata": {},
   "outputs": [
    {
     "name": "stdout",
     "output_type": "stream",
     "text": [
      "Please speak in hindi\n",
      "Please speak in bengali\n",
      "Please speak in hindi\n"
     ]
    }
   ],
   "source": [
    "class A:\n",
    "    \n",
    "    def abc(self):\n",
    "        \n",
    "        return 'Please speak in english'\n",
    "        \n",
    "class B(A) :            # Hierarchical inheritance\n",
    "    \n",
    "    def abc(self):\n",
    "        \n",
    "        return 'Please speak in hindi'\n",
    "    \n",
    "    \n",
    "class C(A):              # Hierarchical inheritance\n",
    "    \n",
    "    def abc(self):\n",
    "        \n",
    "        return 'Please speak in bengali'\n",
    "    \n",
    "    \n",
    "def language(person):             # Instance method # person is used as self # any value can take\n",
    "    \n",
    "    print(person.abc())\n",
    "    \n",
    "b = B()\n",
    "c = C()\n",
    "print(b.abc())\n",
    "print(c.abc())\n",
    "language(b)"
   ]
  },
  {
   "cell_type": "markdown",
   "id": "cd9883f8",
   "metadata": {},
   "source": [
    "### 2. Method Overloading"
   ]
  },
  {
   "cell_type": "markdown",
   "id": "d82c5810",
   "metadata": {},
   "source": [
    "#### Method overloading is nothing but same name with different types of arguments . method overloading is not possible in python. same name means methods having same name but there arguments are different. it is always consider or execute most last method"
   ]
  },
  {
   "cell_type": "code",
   "execution_count": 22,
   "id": "e6b05e8a",
   "metadata": {},
   "outputs": [
    {
     "ename": "TypeError",
     "evalue": "shape.area() missing 1 required positional argument: 'b'",
     "output_type": "error",
     "traceback": [
      "\u001b[1;31m---------------------------------------------------------------------------\u001b[0m",
      "\u001b[1;31mTypeError\u001b[0m                                 Traceback (most recent call last)",
      "Cell \u001b[1;32mIn[22], line 15\u001b[0m\n\u001b[0;32m     11\u001b[0m                                   \u001b[38;5;66;03m# of most last method\u001b[39;00m\n\u001b[0;32m     14\u001b[0m s \u001b[38;5;241m=\u001b[39m shape()\n\u001b[1;32m---> 15\u001b[0m s\u001b[38;5;241m.\u001b[39marea(a \u001b[38;5;241m=\u001b[39m \u001b[38;5;241m10\u001b[39m)\n",
      "\u001b[1;31mTypeError\u001b[0m: shape.area() missing 1 required positional argument: 'b'"
     ]
    }
   ],
   "source": [
    "class shape:\n",
    "    \n",
    "    def area(self , a):          # method having same name\n",
    "        \n",
    "        return 3.14 * a\n",
    "    \n",
    "    \n",
    "    def area(self , a , b):        # method having same name\n",
    "        \n",
    "        return a * b              # it always execute most last method means it ask parameters\n",
    "                                  # of most last method\n",
    "    \n",
    "\n",
    "s = shape()\n",
    "s.area(a = 10)"
   ]
  },
  {
   "cell_type": "markdown",
   "id": "64839d19",
   "metadata": {},
   "source": [
    "##### It ask other value of b means it ask arguments for area(most last method) (2nd area method).It always try to execute most last method in method overloading because its same name so its find most last same name method"
   ]
  },
  {
   "cell_type": "code",
   "execution_count": 23,
   "id": "82b31c67",
   "metadata": {},
   "outputs": [
    {
     "data": {
      "text/plain": [
       "200"
      ]
     },
     "execution_count": 23,
     "metadata": {},
     "output_type": "execute_result"
    }
   ],
   "source": [
    "class shape:\n",
    "    \n",
    "    def area(self , a):          # method having same name\n",
    "        \n",
    "        return 3.14 * a\n",
    "    \n",
    "    \n",
    "    def area(self , a , b):        # method having same name\n",
    "        \n",
    "        return a * b              # it always execute most last method means it ask parameters\n",
    "                                  # of most last method\n",
    "    \n",
    "\n",
    "s = shape()\n",
    "s.area(a = 10 , b = 20)"
   ]
  },
  {
   "cell_type": "markdown",
   "id": "a073cb98",
   "metadata": {},
   "source": [
    "#### Now its execute fine because it wants execute most last one so we pass arguments of most last method"
   ]
  },
  {
   "cell_type": "markdown",
   "id": "26793b43",
   "metadata": {},
   "source": [
    "### Alternative way for handling the method overloading"
   ]
  },
  {
   "cell_type": "code",
   "execution_count": 26,
   "id": "bdf0b5f1",
   "metadata": {},
   "outputs": [
    {
     "name": "stdout",
     "output_type": "stream",
     "text": [
      "314.0\n",
      "200\n"
     ]
    }
   ],
   "source": [
    "class shape:\n",
    "    \n",
    "    def area(self , a , b = 0):   # b=0 is bydefault variable.if we are not passing any value at\n",
    "                                  # time of calling method then it will consider bydefault value\n",
    "        if b == 0 :               # otherwise it will consider at time of calling value\n",
    "                                  # like else condition(b = 20)\n",
    "            return 3.14 *a*a\n",
    "        \n",
    "        else:\n",
    "            \n",
    "            return a * b\n",
    "        \n",
    "        \n",
    "        \n",
    "s = shape()\n",
    "print(s.area(10))\n",
    "print(s.area(10 , 20))"
   ]
  },
  {
   "cell_type": "markdown",
   "id": "53e6c9bd",
   "metadata": {},
   "source": [
    "### 1.Operator overloading \n",
    "\n",
    "#### Operator overloading is same operators but different operands\n",
    "#### operator is same but it depends on types operands which operation is create"
   ]
  },
  {
   "cell_type": "markdown",
   "id": "c104efc8",
   "metadata": {},
   "source": [
    "#### Operator overloading in Python happens when you define special methods (magic methods) like __add__ to handle operators like +. When you use the + operator between two objects of your custom class, Python will automatically invoke the __add__ method to determine what happens"
   ]
  },
  {
   "cell_type": "code",
   "execution_count": 25,
   "id": "7ddacffa",
   "metadata": {},
   "outputs": [
    {
     "name": "stdout",
     "output_type": "stream",
     "text": [
      "30\n",
      "Data Scientist\n"
     ]
    }
   ],
   "source": [
    "class operator_overloading:\n",
    "    \n",
    "    def __init__(self , value):\n",
    "        \n",
    "        self.value = value\n",
    "        \n",
    "        \n",
    "        \n",
    "    def __add__(self , other):\n",
    "        \n",
    "        #self is provide access value of first object\n",
    "        #other is provide access the value of second object\n",
    "        \n",
    "        if isinstance(other , operator_overloading):\n",
    "            \n",
    "            return self.value + other.value\n",
    "        \n",
    "        if isinstance(other , str):\n",
    "            return self.value + other\n",
    "        \n",
    "        elif isinstance(other , (int , float)):\n",
    "            return self.value + other\n",
    "        \n",
    "        else:\n",
    "            return NotImplemented\n",
    "        \n",
    "        \n",
    "    \n",
    "a = operator_overloading(10)\n",
    "b = operator_overloading(20)\n",
    "result = a + b\n",
    "print(result)\n",
    "c = operator_overloading('Data ')\n",
    "result1 = c + 'Scientist'\n",
    "print(result1)"
   ]
  },
  {
   "cell_type": "markdown",
   "id": "1c71660f",
   "metadata": {},
   "source": [
    "\n",
    "### Full Code with Explanation:\n",
    "\n",
    "```python\n",
    "class operator_overloading:\n",
    "    \n",
    "    # This is the constructor method. It runs when an object is created.\n",
    "    def __init__(self, value):\n",
    "        self.value = value  # 'value' is set when the object is created. It belongs to the object.\n",
    "    \n",
    "    # This is the special method that runs when you use the '+' operator.\n",
    "    def __add__(self, other):\n",
    "        # Check if the 'other' object is an instance of the 'operator_overloading' class.\n",
    "        if isinstance(other, operator_overloading):\n",
    "            return self.value + other.value  # Add the values of the two objects.\n",
    "        \n",
    "        # If 'other' is a string, concatenate it with 'self.value'.\n",
    "        elif isinstance(other, str):\n",
    "            return self.value + other\n",
    "        \n",
    "        # If 'other' is a number (int or float), add it to 'self.value'.\n",
    "        elif isinstance(other, (int, float)):\n",
    "            return self.value + other\n",
    "        \n",
    "        # If it's not one of the above types, say that this operation is not supported.\n",
    "        else:\n",
    "            return NotImplemented\n",
    "\n",
    "\n",
    "# Create two objects of the 'operator_overloading' class\n",
    "a = operator_overloading(10)  # Object 'a' has value 10\n",
    "b = operator_overloading(20)  # Object 'b' has value 20\n",
    "\n",
    "# Add the two objects using the '+' operator\n",
    "result = a + b  # This calls the __add__ method for 'a' and 'b'\n",
    "print(result)  # Output: 30 (because 10 + 20 = 30)\n",
    "```\n",
    "\n",
    "### Simple Breakdown of the Code:\n",
    "\n",
    "---\n",
    "\n",
    "#### 1. **Class Definition (`operator_overloading`)**\n",
    "\n",
    "```python\n",
    "class operator_overloading:\n",
    "```\n",
    "- **What is a class?**  \n",
    "A class is like a blueprint for creating objects (things). In this case, the class `operator_overloading` is a blueprint for creating objects that hold a `value`.\n",
    "\n",
    "---\n",
    "\n",
    "#### 2. **The `__init__` Method**\n",
    "\n",
    "```python\n",
    "def __init__(self, value):\n",
    "    self.value = value  # 'value' is set when the object is created.\n",
    "```\n",
    "\n",
    "- **What is `__init__`?**  \n",
    "This is called the **constructor**. When you create a new object from the class, Python automatically calls this method. The constructor is used to initialize (or set) the values of the object's properties (in this case, `value`).\n",
    "\n",
    "- **`self.value`**:  \n",
    "This means the value that belongs to each individual object. Each object will have its own `value`.\n",
    "\n",
    "- **Example**:  \n",
    "When we create `a = operator_overloading(10)`, this method runs and sets `a.value` to `10`. Similarly, for `b = operator_overloading(20)`, `b.value` is set to `20`.\n",
    "\n",
    "---\n",
    "\n",
    "#### 3. **The `__add__` Method**\n",
    "\n",
    "```python\n",
    "def __add__(self, other):\n",
    "```\n",
    "\n",
    "- **What is `__add__`?**  \n",
    "This is a **special method** that gets called when you use the `+` operator between two objects. So, when you do `a + b`, Python looks for `__add__` to define what should happen.\n",
    "\n",
    "- **What does `self` and `other` mean?**  \n",
    "- `self`: Refers to the first object (`a` in this case).  \n",
    "- `other`: Refers to the second object (`b` in this case).\n",
    "\n",
    "---\n",
    "\n",
    "#### 4. **The Logic Inside `__add__`**\n",
    "\n",
    "Now, let's look at what happens inside the `__add__` method.\n",
    "\n",
    "##### Case 1: When `other` is another object of the same class (`operator_overloading`):\n",
    "\n",
    "```python\n",
    "if isinstance(other, operator_overloading):\n",
    "    return self.value + other.value  # Add the 'value' of both objects.\n",
    "```\n",
    "\n",
    "- **What is `isinstance(other, operator_overloading)`?**  \n",
    "This checks if the `other` object is an instance of the `operator_overloading` class. In other words, we are checking if the second operand (`b`) is also an object created from the same class.\n",
    "\n",
    "- **What happens if `other` is an object?**  \n",
    "If `other` is also an `operator_overloading` object, we **add their `value` attributes together** (i.e., `self.value + other.value`).\n",
    "\n",
    "- **Example:**  \n",
    "For `a = operator_overloading(10)` and `b = operator_overloading(20)`, this line will return `10 + 20 = 30`.\n",
    "\n",
    "##### Case 2: When `other` is a string:\n",
    "\n",
    "```python\n",
    "elif isinstance(other, str):\n",
    "    return self.value + other  # Concatenate the string with 'self.value'.\n",
    "```\n",
    "\n",
    "- **What is `isinstance(other, str)`?**  \n",
    "This checks if `other` is a string.\n",
    "\n",
    "- **What happens if `other` is a string?**  \n",
    "If the second operand is a string, we **concatenate** the `value` of the first object with the string.\n",
    "\n",
    "- **Example:**  \n",
    "If `a = operator_overloading(\"Hello\")` and `b = \" World\"`, this line would return `\"Hello\" + \" World\"`, which gives `\"Hello World\"`.\n",
    "\n",
    "##### Case 3: When `other` is a number (integer or float):\n",
    "\n",
    "```python\n",
    "elif isinstance(other, (int, float)):\n",
    "    return self.value + other  # Add the number to 'self.value'.\n",
    "```\n",
    "\n",
    "- **What is `isinstance(other, (int, float))`?**  \n",
    "This checks if `other` is either an integer (`int`) or a floating-point number (`float`).\n",
    "\n",
    "- **What happens if `other` is a number?**  \n",
    "If the second operand is a number, we simply **add it to `self.value`**.\n",
    "\n",
    "- **Example:**  \n",
    "If `a = operator_overloading(10)` and `b = 5`, this line would return `10 + 5 = 15`.\n",
    "\n",
    "##### Case 4: If none of the above cases are true:\n",
    "\n",
    "```python\n",
    "else:\n",
    "    return NotImplemented  # Return this if the operation isn't supported.\n",
    "```\n",
    "\n",
    "- **What is `NotImplemented`?**  \n",
    "If `other` is none of the above (not an object, string, or number), we return `NotImplemented`. This tells Python that we don't know how to handle this operation.\n",
    "\n",
    "---\n",
    "\n",
    "#### 5. **Creating Objects and Using the `+` Operator**\n",
    "\n",
    "```python\n",
    "a = operator_overloading(10)  # Object 'a' with value 10\n",
    "b = operator_overloading(20)  # Object 'b' with value 20\n",
    "result = a + b  # This calls the __add__ method for 'a' and 'b'\n",
    "print(result)  # Output: 30 (because 10 + 20 = 30)\n",
    "```\n",
    "\n",
    "- **Creating objects**:  \n",
    "  `a = operator_overloading(10)` creates an object `a` with a value of `10`, and `b = operator_overloading(20)` creates an object `b` with a value of `20`.\n",
    "\n",
    "- **Using the `+` operator**:  \n",
    "  `result = a + b` calls the `__add__` method. Inside `__add__`, Python checks if both `a` and `b` are objects of the `operator_overloading` class. Since they are, it adds their `value` attributes (i.e., `10 + 20`) and returns `30`.\n",
    "\n",
    "---\n",
    "\n",
    "### Final Output:\n",
    "```python\n",
    "30\n",
    "```\n",
    "\n",
    "---\n",
    "\n",
    "### Summary of What Happens in Simple Words:\n",
    "1. **You create two objects (`a` and `b`)** of the `operator_overloading` class, each holding a `value` (10 and 20).\n",
    "2. **When you use `a + b`**, Python automatically calls the `__add__` method of `a` to perform the addition.\n",
    "3. Inside `__add__`, Python checks if `b` is an instance of `operator_overloading` and adds the `value` of `a` (10) to the `value` of `b` (20).\n",
    "4. The result (`30`) is returned and printed.\n",
    "\n",
    "This is how operator overloading works in simple terms. You are defining **how to use the `+` operator** with objects of your custom class."
   ]
  },
  {
   "cell_type": "markdown",
   "id": "174f86ea",
   "metadata": {},
   "source": [
    "#### Again one example"
   ]
  },
  {
   "cell_type": "code",
   "execution_count": 62,
   "id": "62c98d8c",
   "metadata": {},
   "outputs": [
    {
     "name": "stdout",
     "output_type": "stream",
     "text": [
      "100.0\n",
      " DataScientist  DataScientist  DataScientist  DataScientist  DataScientist \n"
     ]
    }
   ],
   "source": [
    "class operatoroverloading:\n",
    "    \n",
    "    def __init__(self , value):\n",
    "        \n",
    "        self.value = value # it is a instance varaible\n",
    "        \n",
    "        \n",
    "    def __mul__(self , other):   # self  will hold value of first object  # a\n",
    "                                 # other will hold value of second object # b\n",
    "            \n",
    "    #Use isinstance(other, operatoroverloading) when dealing with two objects of your class.\n",
    "            if isinstance(other , operatoroverloading):\n",
    "                \n",
    "                return self.value * other.value \n",
    "                # here we use other.value we use other for access it before other is object\n",
    "                # of operatoroverloading class so want access the value or variable of class\n",
    "                # the we access it obj.variable so same other.value.\n",
    "                #same with self.value\n",
    "                \n",
    "            # here we check is other(b) is object of class(opr). if it is return +\n",
    "            \n",
    "            elif isinstance(other , (int , float)):  \n",
    "                # this is only for if b object has int or float. to handle this\n",
    "                \n",
    "                return self.value * other\n",
    "                # here we use other directly instead of other.value because here other is\n",
    "                # just data it might be int or float.\n",
    "                \n",
    "            # here we check is other(b) is int or float. if it is then return *(multiplication)\n",
    "                \n",
    "            elif isinstance(other , str):\n",
    "                # this is only for to handle if user gives str value then it handle this\n",
    "                return self.value * other\n",
    "            # here we check is other(b) is string. if it is then return repetation \n",
    "            \n",
    "            \n",
    "a = operatoroverloading(5)\n",
    "b = operatoroverloading(20.0)\n",
    "result = a * b\n",
    "print(result)\n",
    "c = operatoroverloading(' DataScientist ')\n",
    "result2 = a * c\n",
    "print(result2)"
   ]
  },
  {
   "cell_type": "markdown",
   "id": "e1f91ca7",
   "metadata": {},
   "source": [
    "### Abstraction\n",
    "\n",
    "#### Abstraction is data hiding process . It hiding unnecessary details from user. user only see frontend code . they are completely unaware bout its backend.\n",
    "#### It actually hiding the complexity of code and showing only essential features to the user\n",
    "#### In abstraction  , inheritance concept in also there . there is one abstract class and its child class where abstarct class inherited . In abstract class , abstract method is just defined and before abstract method there is abstractmethod decorator is mention . and implimentation of that abstractmethod in its subclass"
   ]
  },
  {
   "cell_type": "code",
   "execution_count": 8,
   "id": "ec8e6a8a",
   "metadata": {},
   "outputs": [],
   "source": [
    "#This class is abstract class . which is hiding from user . it can not be access by user as well\n",
    "# when try to access it it will through error because it is hiding.\n",
    "# This abstractclass is backend code.\n",
    "from abc import ABC , abstractmethod\n",
    "# abc is name of module in python and ABC is abstract class. which import from abc class.\n",
    "# so this ABC class made BankApp class as abtract class. \n",
    "# if we are not passing ABC class in BankApp then BankApp is regular class.\n",
    "\n",
    "class BankApp(ABC): \n",
    "    \n",
    "    def database(self):\n",
    "        print('Database is connected')\n",
    "        \n",
    "    @abstractmethod\n",
    "    def security(self):\n",
    "        pass\n",
    "    \n",
    "    @abstractmethod\n",
    "    def display(self):\n",
    "        pass"
   ]
  },
  {
   "cell_type": "code",
   "execution_count": 9,
   "id": "901c6dda",
   "metadata": {},
   "outputs": [
    {
     "name": "stdout",
     "output_type": "stream",
     "text": [
      "Mobile Security\n",
      "Display the balance details\n"
     ]
    }
   ],
   "source": [
    "#This child class is not hiding from user.it is accessible for user. It is the fromtend code\n",
    "class MobileApp(BankApp):\n",
    "    \n",
    "    def Login(self):\n",
    "        print('Login into mobile')\n",
    "        \n",
    "    def security(self):\n",
    "        print('Mobile Security')\n",
    "        \n",
    "    def display(self):\n",
    "        print('Display the balance details')\n",
    "        \n",
    "        \n",
    "m = MobileApp()\n",
    "m.security()\n",
    "m.display()"
   ]
  },
  {
   "cell_type": "code",
   "execution_count": 10,
   "id": "3cba7b50",
   "metadata": {},
   "outputs": [
    {
     "ename": "TypeError",
     "evalue": "Can't instantiate abstract class BankApp with abstract methods display, security",
     "output_type": "error",
     "traceback": [
      "\u001b[1;31m---------------------------------------------------------------------------\u001b[0m",
      "\u001b[1;31mTypeError\u001b[0m                                 Traceback (most recent call last)",
      "Cell \u001b[1;32mIn[10], line 1\u001b[0m\n\u001b[1;32m----> 1\u001b[0m b \u001b[38;5;241m=\u001b[39m BankApp()\n",
      "\u001b[1;31mTypeError\u001b[0m: Can't instantiate abstract class BankApp with abstract methods display, security"
     ]
    }
   ],
   "source": [
    "b = BankApp()"
   ]
  },
  {
   "cell_type": "markdown",
   "id": "60405135",
   "metadata": {},
   "source": [
    "#### The abstract class (parent class) can not access . so thats why there object is also not createable.\n",
    "### The abstract class is can not aceess dute to its (at the rate)abstractmethod... if we comment it or hide it abstractclass get accessed.\n",
    "#### so basically abstract class is backend which can not accessed by user and child class can be accessed by user because it is front end (basically access means they just showcase they dont't have any access to changes)"
   ]
  },
  {
   "cell_type": "markdown",
   "id": "42453ec5",
   "metadata": {},
   "source": [
    "##### When @abstractmethod hide"
   ]
  },
  {
   "cell_type": "code",
   "execution_count": 15,
   "id": "beb4b30f",
   "metadata": {},
   "outputs": [],
   "source": [
    "####  when abstractmethod hide then we can access both class\n",
    "from abc import ABC , abstractmethod\n",
    "\n",
    "class BankApp(ABC):\n",
    "    \n",
    "    def database(self):\n",
    "        print('Database is connected')\n",
    "        \n",
    "    #@abstractmethod\n",
    "    def security(self):\n",
    "        pass\n",
    "    \n",
    "    #@abstractmethod\n",
    "    def display(self):\n",
    "        pass"
   ]
  },
  {
   "cell_type": "code",
   "execution_count": 16,
   "id": "94f67664",
   "metadata": {},
   "outputs": [
    {
     "name": "stdout",
     "output_type": "stream",
     "text": [
      "Mobile Security\n",
      "Display the balance details\n"
     ]
    }
   ],
   "source": [
    "#This child class is not hiding from user.it is accessible for user. It is the fromtend code\n",
    "class MobileApp(BankApp):\n",
    "    \n",
    "    def Login(self):\n",
    "        print('Login into mobile')\n",
    "        \n",
    "    def security(self):\n",
    "        print('Mobile Security')\n",
    "        \n",
    "    def display(self):\n",
    "        print('Display the balance details')\n",
    "        \n",
    "        \n",
    "m = MobileApp()\n",
    "m.security()\n",
    "m.display()"
   ]
  },
  {
   "cell_type": "code",
   "execution_count": 17,
   "id": "016c9bd3",
   "metadata": {},
   "outputs": [],
   "source": [
    "b = BankApp()"
   ]
  },
  {
   "cell_type": "code",
   "execution_count": 18,
   "id": "ca00b777",
   "metadata": {},
   "outputs": [
    {
     "name": "stdout",
     "output_type": "stream",
     "text": [
      "Database is connected\n"
     ]
    }
   ],
   "source": [
    "b.database()"
   ]
  },
  {
   "cell_type": "markdown",
   "id": "982ed5e6",
   "metadata": {},
   "source": [
    "#### Abstractclass is backend code(which is hidden) which can not be accessible by user and child class of abstract class is frontend  code(which is show to user) which is accessible by user(only visualization access). because intentionally we hide it from user the reason is we want hide unneccessary details of complex code and show only essential features to the user"
   ]
  },
  {
   "cell_type": "code",
   "execution_count": null,
   "id": "8848cbe7",
   "metadata": {},
   "outputs": [],
   "source": []
  }
 ],
 "metadata": {
  "kernelspec": {
   "display_name": "Python 3 (ipykernel)",
   "language": "python",
   "name": "python3"
  },
  "language_info": {
   "codemirror_mode": {
    "name": "ipython",
    "version": 3
   },
   "file_extension": ".py",
   "mimetype": "text/x-python",
   "name": "python",
   "nbconvert_exporter": "python",
   "pygments_lexer": "ipython3",
   "version": "3.11.4"
  }
 },
 "nbformat": 4,
 "nbformat_minor": 5
}
