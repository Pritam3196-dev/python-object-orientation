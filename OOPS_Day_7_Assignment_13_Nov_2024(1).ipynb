{
 "cells": [
  {
   "cell_type": "markdown",
   "metadata": {
    "id": "BCleRtX43caS"
   },
   "source": [
    "### `Problem-1:` Class inheritence\n",
    "\n",
    "Create a **Bus** child class that inherits from the Vehicle class. The default fare charge of any vehicle is seating capacity * 100. If Vehicle is Bus instance, we need to add an extra 10% on full fare as a maintenance charge. So total fare for bus instance will become the final amount = total fare + 10% of the total fare.\n",
    "\n",
    "Note: The bus seating capacity is 50. so the final fare amount should be 5500. You need to override the fare() method of a Vehicle class in Bus class."
   ]
  },
  {
   "cell_type": "markdown",
   "metadata": {},
   "source": [
    "##### Example of single inheritance"
   ]
  },
  {
   "cell_type": "code",
   "execution_count": 16,
   "metadata": {},
   "outputs": [
    {
     "name": "stdout",
     "output_type": "stream",
     "text": [
      "5500\n"
     ]
    }
   ],
   "source": [
    "class Vehicle:  # parent class\n",
    "    \n",
    "    \n",
    "    def __init__(self , seating_capacity , fare_charge = 100):\n",
    "        \n",
    "        self.seating_capacity = seating_capacity\n",
    "        self.fare_charge = fare_charge\n",
    "        \n",
    "        \n",
    "    def fare(self):\n",
    "        \n",
    "        final_amount = self.seating_capacity * self.fare_charge\n",
    "        \n",
    "        return final_amount\n",
    "    \n",
    "    \n",
    "\n",
    "class Bus(Vehicle):          # child class\n",
    "    \n",
    "    \n",
    "    def fare(self):\n",
    "        \n",
    "        maintainance_charge = (self.seating_capacity * self.fare_charge) *(10 / 100 )\n",
    "        final_fare_amount = int((self.seating_capacity * self.fare_charge) + (maintainance_charge))\n",
    "        \n",
    "        return final_fare_amount\n",
    "    \n",
    "    \n",
    "b = Bus(50 ,100)\n",
    "print(b.fare())"
   ]
  },
  {
   "cell_type": "markdown",
   "metadata": {},
   "source": [
    "### OR"
   ]
  },
  {
   "cell_type": "code",
   "execution_count": 18,
   "metadata": {},
   "outputs": [
    {
     "name": "stdout",
     "output_type": "stream",
     "text": [
      "5500\n"
     ]
    }
   ],
   "source": [
    "class Vehicle:  # parent class\n",
    "    \n",
    "    \n",
    "    def __init__(self , seating_capacity , fare_charge = 100):\n",
    "        \n",
    "        self.seating_capacity = seating_capacity\n",
    "        self.fare_charge = fare_charge\n",
    "        \n",
    "        \n",
    "    def fare(self):\n",
    "        \n",
    "        final_amount = self.seating_capacity * self.fare_charge\n",
    "        \n",
    "        return final_amount\n",
    "    \n",
    "    \n",
    "\n",
    "class Bus(Vehicle):          # child class\n",
    "    \n",
    "    \n",
    "    def fare(self):\n",
    "        \n",
    "        maintainance_charge = (self.seating_capacity * self.fare_charge) * (10/100)\n",
    "        \n",
    "        final_fare_amount = int(super().fare() + maintainance_charge)\n",
    "        \n",
    "        return final_fare_amount\n",
    "    \n",
    "    \n",
    "b = Bus(50 ,100)\n",
    "print(b.fare())"
   ]
  },
  {
   "cell_type": "markdown",
   "metadata": {
    "id": "KBbGNTtQ47mJ"
   },
   "source": [
    "### `Problem-2:` Class Inheritence\n",
    "\n",
    "Create a Bus class that inherits from the Vehicle class. Give the capacity argument of *Bus.seating_capacity()* a default value of 50.\n",
    "\n",
    "Use the following code for your parent Vehicle class."
   ]
  },
  {
   "cell_type": "code",
   "execution_count": 51,
   "metadata": {
    "id": "MwOnYE_14M-r"
   },
   "outputs": [
    {
     "name": "stdout",
     "output_type": "stream",
     "text": [
      "3000.1\n",
      "seating capacity of bus is: 50\n"
     ]
    }
   ],
   "source": [
    "class Vehicle:\n",
    "    \n",
    "    def __init__(self , fare_charge , seating_capacity = 50): # default seating_capacity variable\n",
    "        \n",
    "        self.seating_capacity = seating_capacity\n",
    "        self.fare_charge = fare_charge\n",
    "        \n",
    "    def fare(self):\n",
    "        \n",
    "        fare_amount = (self.seating_capacity * self.fare_charge)\n",
    "        \n",
    "        return fare_amount\n",
    "    \n",
    "    def seating_capacityy(self):\n",
    "        \n",
    "        return f'seating capacity of bus is: {self.seating_capacity}'\n",
    "        #print('seating capacity of bus is :' , self.seating_capacity)\n",
    "    \n",
    "    \n",
    "class bus(Vehicle):\n",
    "    \n",
    "    def fare(self):\n",
    "        \n",
    "        final_fare_amount = super().fare() + (10 / 100)\n",
    "        \n",
    "        return final_fare_amount\n",
    "    \n",
    "    \n",
    "    \n",
    "b = bus(60) # we are not passing argument for seating_capacity . because its default\n",
    "print(b.fare())\n",
    "print(b.seating_capacityy())"
   ]
  },
  {
   "cell_type": "markdown",
   "metadata": {},
   "source": [
    "#### OR"
   ]
  },
  {
   "cell_type": "code",
   "execution_count": 40,
   "metadata": {
    "id": "Py5Gr0ip5OBB"
   },
   "outputs": [
    {
     "name": "stdout",
     "output_type": "stream",
     "text": [
      "seating capacity of bus is 50 \n"
     ]
    }
   ],
   "source": [
    "class Vehicle:\n",
    "    \n",
    "    def __init__(self , fare_charge):\n",
    "        \n",
    "        #self.seating_capacity = seating_capacity\n",
    "        self.fare_charge = fare_charge\n",
    "    \n",
    "    def seatingg_capacity(self , seating_capacity):\n",
    "        \n",
    "        return f'seating capacity of bus is {seating_capacity} '\n",
    "    \n",
    "    \n",
    "    \n",
    "    \n",
    "class bus(Vehicle):\n",
    "    \n",
    "    \n",
    "    def seating_capacity_2(self , seating_capacity = 50): # by default variable\n",
    "        \n",
    "        return super().seatingg_capacity(seating_capacity)\n",
    "    \n",
    "    \n",
    "    \n",
    "b = bus(60) # we are not passing argument for seating_capacity . because its default\n",
    "#print(b.fare())\n",
    "print(b.seating_capacity_2())"
   ]
  },
  {
   "cell_type": "markdown",
   "metadata": {
    "id": "ExIxsv4y-oEd"
   },
   "source": [
    "### `Problem-3:` Write a program that has a class Point. Define another class Location which has two objects (Source & Destination) of class Point. Also define a function in Location that prints the reflection of Destination on the x axis."
   ]
  },
  {
   "cell_type": "code",
   "execution_count": 57,
   "metadata": {
    "id": "yT2QtzQp5VAB"
   },
   "outputs": [
    {
     "name": "stdout",
     "output_type": "stream",
     "text": [
      "Source is : 0 : 0\n",
      "Destination is : 1 : 1\n",
      "The reflection of Destination on the x axis is  1 : -1\n"
     ]
    }
   ],
   "source": [
    "class Point:\n",
    "    \n",
    "    def __init__(self , x , y):\n",
    "        \n",
    "        self.x = x\n",
    "        self.y = y\n",
    "    \n",
    "    def show_method(self):\n",
    "        \n",
    "        return '{} : {}'.format(self.x , self.y)\n",
    "    \n",
    "class Location(Point):\n",
    "    \n",
    "    def __init__(self , x1 , y1 , x2 , y2):\n",
    "        \n",
    "        self.source = Point(x1 , y1)             # objects of source\n",
    "        self.Destination = Point(x2 , y2)        # objects of Destination\n",
    "        \n",
    "        # source is 1st object of point class\n",
    "        # Destionation is 2nd object of point class\n",
    "        \n",
    "    def show(self):\n",
    "            \n",
    "        print('Source is :' , self.source.show_method())     # x1 , y1 , # 0,0\n",
    "        print('Destination is :' ,self.Destination.show_method())  # x2 , y2 # 1 , 1\n",
    "            \n",
    "            \n",
    "    def reflection(self):  # reflection of destination means 1,1 to 1,-1\n",
    "        \n",
    "        self.Destination.y = - self.Destination.y   # update value 1 to -1\n",
    "        \n",
    "        print('The reflection of Destination on the x axis is ' , self.Destination.show_method())\n",
    "        \n",
    "        \n",
    "\n",
    "l = Location(0,0,1,1)\n",
    "l.show()\n",
    "l.reflection()"
   ]
  },
  {
   "cell_type": "markdown",
   "metadata": {
    "id": "OcQhJvXVALgp"
   },
   "source": [
    "### `Problem-4:` Write a program that has an abstract class Polygon. Derive two classes Rectangle and Triangle from Polygon and write methods to get the details of their dimensions and hence calculate the area."
   ]
  },
  {
   "cell_type": "markdown",
   "metadata": {},
   "source": [
    "##### This is example of hierarchial inheritance "
   ]
  },
  {
   "cell_type": "code",
   "execution_count": 68,
   "metadata": {
    "id": "9IMrtdUH__eA"
   },
   "outputs": [
    {
     "name": "stdout",
     "output_type": "stream",
     "text": [
      "200\n",
      "100.0\n"
     ]
    }
   ],
   "source": [
    "from abc import ABC , abstractmethod\n",
    "class Polygon(ABC):    # abstract class # hidden or backend\n",
    "    \n",
    "    @abstractmethod\n",
    "    def get_dimension(self):   # just defination of abstract method\n",
    "        pass\n",
    "    \n",
    "    @abstractmethod\n",
    "    def area(self):            # just defination of abstract method\n",
    "        pass\n",
    "    \n",
    "class Rectangle(Polygon):          # child class / derive class  # Frontend code\n",
    "    \n",
    "    def get_dimension(self , a , b):  #Implementation of abstractmethod in its subclass means here\n",
    "        \n",
    "        self.a = a\n",
    "        self.b = b\n",
    "        \n",
    "        \n",
    "    def area(self):    #Implementation of abstractmethodin its subclass means here\n",
    "        \n",
    "        return self.a * self.b\n",
    "    \n",
    "    \n",
    "class Triangle(Polygon):           # child class  / derive class  # Frontend code\n",
    "    \n",
    "    def get_dimension(self , l , h): #Implementation of abstractmethodin its subclass means here\n",
    "        \n",
    "        self.l  = l\n",
    "        self.h =  h\n",
    "        \n",
    "    def area(self):    #Implementation of abstractmethodin its subclass means here\n",
    "        \n",
    "        return (1/2)* self.l * self.h\n",
    "    \n",
    "\n",
    "r = Rectangle()\n",
    "r.get_dimension(10,20)\n",
    "print(r.area())\n",
    "t = Triangle()\n",
    "t.get_dimension(10,20)\n",
    "print(t.area())"
   ]
  },
  {
   "cell_type": "markdown",
   "metadata": {
    "id": "sEsGEqOHCSWG"
   },
   "source": [
    "### `Problem-5:` Write a program with class Bill. The users have the option to pay the bill either by cheque or by cash. Use the inheritance to model this situation."
   ]
  },
  {
   "cell_type": "code",
   "execution_count": null,
   "metadata": {
    "id": "l0WFyP2PB3nf"
   },
   "outputs": [],
   "source": []
  },
  {
   "cell_type": "code",
   "execution_count": null,
   "metadata": {
    "id": "waHSud8Ymkz-"
   },
   "outputs": [],
   "source": []
  }
 ],
 "metadata": {
  "colab": {
   "collapsed_sections": [
    "BCleRtX43caS",
    "KBbGNTtQ47mJ",
    "ExIxsv4y-oEd",
    "OcQhJvXVALgp",
    "sEsGEqOHCSWG",
    "v1M5Yh9ZZO0z"
   ],
   "provenance": []
  },
  "kernelspec": {
   "display_name": "Python 3 (ipykernel)",
   "language": "python",
   "name": "python3"
  },
  "language_info": {
   "codemirror_mode": {
    "name": "ipython",
    "version": 3
   },
   "file_extension": ".py",
   "mimetype": "text/x-python",
   "name": "python",
   "nbconvert_exporter": "python",
   "pygments_lexer": "ipython3",
   "version": "3.11.4"
  }
 },
 "nbformat": 4,
 "nbformat_minor": 1
}
